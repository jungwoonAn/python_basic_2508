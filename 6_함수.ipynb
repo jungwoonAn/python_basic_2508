{
 "cells": [
  {
   "cell_type": "markdown",
   "id": "3f27f85d-fe42-4ef7-bf97-7b9c098be024",
   "metadata": {},
   "source": [
    "## 1. 파이썬 함수"
   ]
  },
  {
   "cell_type": "code",
   "execution_count": 7,
   "id": "8f6a2977-1c1d-414b-b755-fe9e2ccb2642",
   "metadata": {},
   "outputs": [
    {
     "name": "stdout",
     "output_type": "stream",
     "text": [
      "7\n",
      "333\n"
     ]
    }
   ],
   "source": [
    "def add(a,b):\n",
    "    return a+b\n",
    "\n",
    "a,b = 3,4\n",
    "c = add(a,b)\n",
    "print(c)\n",
    "\n",
    "d = add(111, 222)\n",
    "print(d)"
   ]
  },
  {
   "cell_type": "code",
   "execution_count": 10,
   "id": "e7473b50-ab0c-4462-b5be-cc0ce38db365",
   "metadata": {},
   "outputs": [
    {
     "name": "stdout",
     "output_type": "stream",
     "text": [
      "6\n"
     ]
    }
   ],
   "source": [
    "# 1. 매개변수 O, 리턴값 O\n",
    "def minus(a,b):\n",
    "    result = a - b\n",
    "    return result\n",
    "\n",
    "a = minus(10,4)\n",
    "print(a)"
   ]
  },
  {
   "cell_type": "code",
   "execution_count": 11,
   "id": "bf3ad72c-344a-4236-b49c-020ba80f8a1b",
   "metadata": {},
   "outputs": [
    {
     "name": "stdout",
     "output_type": "stream",
     "text": [
      "Hi!\n"
     ]
    }
   ],
   "source": [
    "# 2. 매개변수 X, 리턴값 O\n",
    "def say():\n",
    "    return 'Hi!'\n",
    "\n",
    "print(say())"
   ]
  },
  {
   "cell_type": "code",
   "execution_count": 14,
   "id": "a4a81b77-6ab3-484e-8602-c2c09c4b320b",
   "metadata": {},
   "outputs": [
    {
     "name": "stdout",
     "output_type": "stream",
     "text": [
      "12, 24의 합은 36입니다.\n",
      "3, 4의 합은 7입니다.\n",
      "None\n"
     ]
    }
   ],
   "source": [
    "# 3. 매개변수 O, 리턴값 X\n",
    "def add(x,y):\n",
    "    print(\"%d, %d의 합은 %d입니다.\"%(x, y, x+y))\n",
    "\n",
    "add(12,24)\n",
    "\n",
    "a = add(3,4)\n",
    "print(a)"
   ]
  },
  {
   "cell_type": "code",
   "execution_count": 15,
   "id": "6aff8bca-069d-4c0d-93f8-8f14478a6292",
   "metadata": {},
   "outputs": [
    {
     "name": "stdout",
     "output_type": "stream",
     "text": [
      "Hi~\n"
     ]
    }
   ],
   "source": [
    "# 4. 매개변수 X, 리턴값 X\n",
    "def say():\n",
    "    print('Hi~')\n",
    "\n",
    "say()"
   ]
  },
  {
   "cell_type": "code",
   "execution_count": 19,
   "id": "35b6f617-ebe0-4e0d-9b4e-40b252b52229",
   "metadata": {},
   "outputs": [
    {
     "name": "stdout",
     "output_type": "stream",
     "text": [
      "4\n",
      "4\n"
     ]
    }
   ],
   "source": [
    "# 키워드 매개변수\n",
    "def sub(a, b):\n",
    "    return a - b\n",
    "\n",
    "result = sub(7, 3)\n",
    "print(result)\n",
    "\n",
    "result2 = sub(b=3, a=7)\n",
    "print(result2)"
   ]
  },
  {
   "cell_type": "code",
   "execution_count": 21,
   "id": "e9a32514-a9c2-41d0-9c24-beaa185b3d42",
   "metadata": {},
   "outputs": [
    {
     "name": "stdout",
     "output_type": "stream",
     "text": [
      "15\n",
      "55\n"
     ]
    }
   ],
   "source": [
    "# 가변 매개변수(*매개변수명)\n",
    "def add_many(*args):\n",
    "    result = 0\n",
    "    for i in args:\n",
    "        result += i\n",
    "    return result\n",
    "\n",
    "res1 = add_many(1,2,3,4,5)\n",
    "print(res1)\n",
    "\n",
    "res2 = add_many(1,2,3,4,5,6,7,8,9,10)\n",
    "print(res2)"
   ]
  },
  {
   "cell_type": "code",
   "execution_count": 29,
   "id": "be838988-4d1a-4565-8941-67a556f80eb3",
   "metadata": {},
   "outputs": [
    {
     "name": "stdout",
     "output_type": "stream",
     "text": [
      "6\n",
      "6\n"
     ]
    }
   ],
   "source": [
    "# 덧셈, 곱셈 둘다 연산 가능한 함수\n",
    "def add_mul(choice, *args):\n",
    "    if choice == 'add':\n",
    "        result = 0\n",
    "        for i in args:\n",
    "            result += i\n",
    "    elif choice == 'mul':\n",
    "        result = 1\n",
    "        for i in args:\n",
    "            result *= i\n",
    "    return result\n",
    "\n",
    "res1 = add_mul('add',1,2,3)\n",
    "print(res1)\n",
    "\n",
    "res2 = add_mul('mul',1,2,3)\n",
    "print(res2)"
   ]
  },
  {
   "cell_type": "code",
   "execution_count": 31,
   "id": "0fe972cc-981a-4002-afa8-c21a39c5e4b2",
   "metadata": {},
   "outputs": [
    {
     "name": "stdout",
     "output_type": "stream",
     "text": [
      "{'a': 1}\n",
      "{'name': 'foo', 'age': 3}\n"
     ]
    }
   ],
   "source": [
    "# 키워드 가변 매개변수(**매개변수)\n",
    "def print_kwargs(**kwargs):\n",
    "    print(kwargs)\n",
    "\n",
    "print_kwargs(a=1)\n",
    "\n",
    "print_kwargs(name='foo', age=3)"
   ]
  },
  {
   "cell_type": "code",
   "execution_count": 33,
   "id": "5d774dcb-0643-42b8-a04a-5b5792de971b",
   "metadata": {},
   "outputs": [
    {
     "name": "stdout",
     "output_type": "stream",
     "text": [
      "(7, 12)\n",
      "a+b =  7\n",
      "a*b =  12\n"
     ]
    }
   ],
   "source": [
    "# 함수의 리턴값은 하나!!\n",
    "def add_and_mul(a,b):\n",
    "    return a+b, a*b\n",
    "\n",
    "res = add_and_mul(3,4)\n",
    "print(res)\n",
    "\n",
    "res1, res2 = add_and_mul(3,4)\n",
    "print(\"a+b = \",res1)\n",
    "print(\"a*b = \",res2)"
   ]
  },
  {
   "cell_type": "code",
   "execution_count": 34,
   "id": "5954d9c5-f18e-4ef8-8743-18ae4ca5cd6d",
   "metadata": {},
   "outputs": [
    {
     "name": "stdout",
     "output_type": "stream",
     "text": [
      "5\n"
     ]
    }
   ],
   "source": [
    "def add_and_mul(a,b):\n",
    "    return a+b\n",
    "    return a*b\n",
    "\n",
    "res = add_and_mul(2,3)\n",
    "print(res)"
   ]
  },
  {
   "cell_type": "code",
   "execution_count": 36,
   "id": "9654bb6f-9695-4e59-a46f-c499bd527ecd",
   "metadata": {},
   "outputs": [
    {
     "name": "stdout",
     "output_type": "stream",
     "text": [
      "나의 별명은 야호 입니다.\n"
     ]
    }
   ],
   "source": [
    "# return의 또 다른 쓰임새\n",
    "def say_nick(nick):\n",
    "    if nick == '바보':\n",
    "        return\n",
    "    print(\"나의 별명은 %s 입니다.\"%nick)\n",
    "\n",
    "say_nick('야호')\n",
    "say_nick('바보')"
   ]
  },
  {
   "cell_type": "code",
   "execution_count": 38,
   "id": "3ce25f23-a477-44e0-8c88-9079ffa5b3ee",
   "metadata": {},
   "outputs": [
    {
     "name": "stdout",
     "output_type": "stream",
     "text": [
      "나의 이름은 홍길동입니다.\n",
      "나이는 30살 입니다.\n",
      "남자입니다.\n",
      "나의 이름은 안정운입니다.\n",
      "나이는 30살 입니다.\n",
      "여자입니다.\n"
     ]
    }
   ],
   "source": [
    "# 매개변수에 초기값 설정\n",
    "def say_myself(name, age, man=True):\n",
    "    print(f\"나의 이름은 {name}입니다.\")\n",
    "    print(f\"나이는 {age}살 입니다.\")\n",
    "    if man:\n",
    "        print(\"남자입니다.\")\n",
    "    else:\n",
    "        print(\"여자입니다.\")\n",
    "\n",
    "# 함수 호출\n",
    "say_myself('홍길동', 30)\n",
    "\n",
    "say_myself('안정운', 30, False)"
   ]
  },
  {
   "cell_type": "code",
   "execution_count": 39,
   "id": "82f65634-e128-4fbb-891d-ed530ac954b3",
   "metadata": {},
   "outputs": [
    {
     "ename": "SyntaxError",
     "evalue": "parameter without a default follows parameter with a default (3470421081.py, line 2)",
     "output_type": "error",
     "traceback": [
      "\u001b[1;36m  Cell \u001b[1;32mIn[39], line 2\u001b[1;36m\u001b[0m\n\u001b[1;33m    def say_myself(name, man=True, age):\u001b[0m\n\u001b[1;37m                                   ^\u001b[0m\n\u001b[1;31mSyntaxError\u001b[0m\u001b[1;31m:\u001b[0m parameter without a default follows parameter with a default\n"
     ]
    }
   ],
   "source": [
    "# 매개변수에 초기값 설정\n",
    "def say_myself(name, man=True, age):\n",
    "    print(f\"나의 이름은 {name}입니다.\")\n",
    "    print(f\"나이는 {age}살 입니다.\")\n",
    "    if man:\n",
    "        print(\"남자입니다.\")\n",
    "    else:\n",
    "        print(\"여자입니다.\")\n",
    "\n",
    "# 함수 호출\n",
    "say_myself('홍길동', 30)"
   ]
  },
  {
   "cell_type": "code",
   "execution_count": 49,
   "id": "623f13a4-d4ef-4bba-8dd1-8e24d829f899",
   "metadata": {},
   "outputs": [
    {
     "name": "stdout",
     "output_type": "stream",
     "text": [
      "1\n"
     ]
    }
   ],
   "source": [
    "# 함수의 유효범위\n",
    "a = 1\n",
    "def vartest(a):\n",
    "    a = a+1\n",
    "\n",
    "vartest(a) # 아무것도 실행 안됨\n",
    "print(a) # 함수 밖에 있는 a출력됨"
   ]
  },
  {
   "cell_type": "code",
   "execution_count": 51,
   "id": "dccfa316-5405-4dde-8994-ac5574f867f9",
   "metadata": {},
   "outputs": [
    {
     "name": "stdout",
     "output_type": "stream",
     "text": [
      "2\n"
     ]
    }
   ],
   "source": [
    "# 함수의 유효범위 => 1. return 사용하기\n",
    "a = 1\n",
    "def vartest(x):\n",
    "    x = x+1\n",
    "    return x\n",
    "\n",
    "a = vartest(a)  # 함수 실행하면 x값 반환되고 a변수에 덮어씀.\n",
    "print(a)"
   ]
  },
  {
   "cell_type": "code",
   "execution_count": 54,
   "id": "362cad67-1e76-42f4-a6b0-25410db08dce",
   "metadata": {},
   "outputs": [
    {
     "name": "stdout",
     "output_type": "stream",
     "text": [
      "2\n"
     ]
    }
   ],
   "source": [
    "# 함수의 유효범위 => 2. global 명령어 사용하기\n",
    "a = 1\n",
    "def vartest():\n",
    "    global a  # 함수 안에서 a는 전역변수로 변경됨\n",
    "    a += 1\n",
    "\n",
    "vartest()\n",
    "print(a)"
   ]
  },
  {
   "cell_type": "code",
   "execution_count": 55,
   "id": "852f5061-6d8d-490c-9a6a-5a38c0e10692",
   "metadata": {},
   "outputs": [
    {
     "name": "stdout",
     "output_type": "stream",
     "text": [
      "7\n"
     ]
    }
   ],
   "source": [
    "# lambda 표현식(예약어) 사용 안하고 함수 선언\n",
    "def add(a,b):\n",
    "    return a+b\n",
    "\n",
    "print(add(3,4))"
   ]
  },
  {
   "cell_type": "code",
   "execution_count": 56,
   "id": "3e6ff531-96c9-43b8-b518-96a33fe17d86",
   "metadata": {},
   "outputs": [
    {
     "name": "stdout",
     "output_type": "stream",
     "text": [
      "7\n"
     ]
    }
   ],
   "source": [
    "# lambda 표현식(예약어) 사용하여 표현\n",
    "add = lambda a,b : a+b\n",
    "print(add(3,4))"
   ]
  },
  {
   "cell_type": "markdown",
   "id": "97a7df2e-cbd6-4e32-9611-1738323bc949",
   "metadata": {},
   "source": [
    "## 2. 함수의 활용"
   ]
  },
  {
   "cell_type": "markdown",
   "id": "d586fe14-b26b-496d-b2c8-7307a16eb014",
   "metadata": {},
   "source": [
    "#### 1) 재귀함수\n",
    ": 내가 만든 함수를 다시 호출하는 것"
   ]
  },
  {
   "cell_type": "code",
   "execution_count": 57,
   "id": "dd3206c5-313b-4839-b0e1-96840b2c8956",
   "metadata": {},
   "outputs": [
    {
     "name": "stdout",
     "output_type": "stream",
     "text": [
      "5! =  120\n"
     ]
    }
   ],
   "source": [
    "# 반복문으로 팩토리얼 구하기\n",
    "def factorial(n):\n",
    "    output = 1\n",
    "    for i in range(1, n+1):\n",
    "        output *= i\n",
    "    return output\n",
    "\n",
    "print('5! = ', factorial(5))"
   ]
  },
  {
   "cell_type": "code",
   "execution_count": 58,
   "id": "57987601-babb-4efc-b4d8-b948ef232bae",
   "metadata": {},
   "outputs": [
    {
     "name": "stdout",
     "output_type": "stream",
     "text": [
      "5! =  120\n"
     ]
    }
   ],
   "source": [
    "# 재귀 함수로 팩토리얼 구하기\n",
    "def factorial(n):\n",
    "    if n == 0:\n",
    "        return 1\n",
    "    else:\n",
    "        return n * factorial(n-1)\n",
    "\n",
    "print('5! = ', factorial(5))"
   ]
  },
  {
   "cell_type": "markdown",
   "id": "58b79615-4895-43fc-94e2-c86467874579",
   "metadata": {},
   "source": [
    "#### 2) 리스트 평탄화하는 재귀함수 만들기"
   ]
  },
  {
   "cell_type": "code",
   "execution_count": 62,
   "id": "f8b3749f-242b-4de0-bf3c-fab76f7ae55f",
   "metadata": {},
   "outputs": [
    {
     "name": "stdout",
     "output_type": "stream",
     "text": [
      "4\n",
      "원본 :  [[1, 2, 3], [4, [5, 6]], 7, [8, 9]]\n",
      "평탄화 :  [1, 2, 3, 4, [5, 6], 7, 8, 9]\n"
     ]
    }
   ],
   "source": [
    "# 반복문으로 리스트 평탄화\n",
    "def flatten(data):\n",
    "    output = []\n",
    "    for item in data:\n",
    "        if type(item) == list:\n",
    "            output += item\n",
    "            # print(output)\n",
    "        else:\n",
    "            output.append(item)\n",
    "    return output\n",
    "\n",
    "example = [[1,2,3], [4, [5,6]], 7, [8,9]]\n",
    "print(len(example))\n",
    "print('원본 : ', example)\n",
    "print('평탄화 : ', flatten(example))"
   ]
  },
  {
   "cell_type": "code",
   "execution_count": 63,
   "id": "8ed5bab1-185c-4bcf-9b4d-93e81d2d41fe",
   "metadata": {},
   "outputs": [
    {
     "name": "stdout",
     "output_type": "stream",
     "text": [
      "원본 :  [[1, 2, 3], [4, [5, 6]], 7, [8, 9]]\n",
      "평탄화 :  [1, 2, 3, 4, 5, 6, 7, 8, 9]\n"
     ]
    }
   ],
   "source": [
    "# 재귀 함수로 리스트 평탄화\n",
    "def flatten(data):\n",
    "    output = []\n",
    "    for item in data:\n",
    "        if type(item) == list:\n",
    "            output += flatten(item)\n",
    "            # print(output)\n",
    "        else:\n",
    "            output.append(item)\n",
    "    return output\n",
    "\n",
    "example = [[1,2,3], [4, [5,6]], 7, [8,9]]\n",
    "print('원본 : ', example)\n",
    "print('평탄화 : ', flatten(example))"
   ]
  },
  {
   "cell_type": "code",
   "execution_count": null,
   "id": "8c112f36-f45f-4a6e-8eb6-a8a54d415172",
   "metadata": {},
   "outputs": [],
   "source": [
    "2323"
   ]
  }
 ],
 "metadata": {
  "kernelspec": {
   "display_name": "Python (base)",
   "language": "python",
   "name": "base"
  },
  "language_info": {
   "codemirror_mode": {
    "name": "ipython",
    "version": 3
   },
   "file_extension": ".py",
   "mimetype": "text/x-python",
   "name": "python",
   "nbconvert_exporter": "python",
   "pygments_lexer": "ipython3",
   "version": "3.13.5"
  }
 },
 "nbformat": 4,
 "nbformat_minor": 5
}
