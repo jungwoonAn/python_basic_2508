{
 "cells": [
  {
   "cell_type": "markdown",
   "id": "8e20a1b2-b4f4-4920-aca4-af2178f25285",
   "metadata": {},
   "source": [
    "## 1. 사용자 입출력"
   ]
  },
  {
   "cell_type": "markdown",
   "id": "c23d213e-4d76-40d5-b9c7-4a04fa613d82",
   "metadata": {},
   "source": [
    "### 1) 사용자 입력"
   ]
  },
  {
   "cell_type": "code",
   "execution_count": 1,
   "id": "2f5742df-f7f9-4b7b-8e0d-273a0e8b5d31",
   "metadata": {},
   "outputs": [
    {
     "name": "stdin",
     "output_type": "stream",
     "text": [
      " Life is too short, you need python\n"
     ]
    }
   ],
   "source": [
    "a = input()"
   ]
  },
  {
   "cell_type": "code",
   "execution_count": 2,
   "id": "cffc0d69-d2ce-4168-becf-946ce360cd9e",
   "metadata": {},
   "outputs": [
    {
     "name": "stdout",
     "output_type": "stream",
     "text": [
      "Life is too short, you need python\n"
     ]
    }
   ],
   "source": [
    "print(a)"
   ]
  },
  {
   "cell_type": "code",
   "execution_count": 4,
   "id": "1d93259a-e3a8-4da4-8cda-1e0d244c1cc2",
   "metadata": {},
   "outputs": [
    {
     "name": "stdin",
     "output_type": "stream",
     "text": [
      " 100\n"
     ]
    }
   ],
   "source": [
    "num = input()"
   ]
  },
  {
   "cell_type": "code",
   "execution_count": 5,
   "id": "46d8e42b-1693-436b-aaf9-e3d669000a3f",
   "metadata": {},
   "outputs": [
    {
     "name": "stdout",
     "output_type": "stream",
     "text": [
      "100\n"
     ]
    }
   ],
   "source": [
    "print(num)"
   ]
  },
  {
   "cell_type": "code",
   "execution_count": 6,
   "id": "b464973f-b551-4886-b001-7694dfc1505e",
   "metadata": {},
   "outputs": [
    {
     "data": {
      "text/plain": [
       "str"
      ]
     },
     "execution_count": 6,
     "metadata": {},
     "output_type": "execute_result"
    }
   ],
   "source": [
    "type(num)  # input에 입력한 모든 것은 문자열!!!"
   ]
  },
  {
   "cell_type": "markdown",
   "id": "8ed2560c-9162-4160-988d-ec13ace3bba8",
   "metadata": {},
   "source": [
    "### 2) print() 자세히 알기"
   ]
  },
  {
   "cell_type": "code",
   "execution_count": 7,
   "id": "e912e947-1c72-4507-aff8-8d548708739a",
   "metadata": {},
   "outputs": [
    {
     "name": "stdout",
     "output_type": "stream",
     "text": [
      "123\n",
      "python\n",
      "[1, 2, 3]\n"
     ]
    }
   ],
   "source": [
    "a = 123\n",
    "print(a)\n",
    "b = \"python\"\n",
    "print(b)\n",
    "c = [1,2,3]\n",
    "print(c)"
   ]
  },
  {
   "cell_type": "code",
   "execution_count": 9,
   "id": "05048afd-81aa-4521-9b5a-d5be007038d9",
   "metadata": {},
   "outputs": [
    {
     "name": "stdout",
     "output_type": "stream",
     "text": [
      "life is too short\n",
      "life is too short\n",
      "life is too short\n"
     ]
    }
   ],
   "source": [
    "# 문자열과 +연산자로 출력\n",
    "print(\"life\"\" is\"\" too short\")\n",
    "print(\"life\"+\" is\"+\" too short\")\n",
    "print('life'' is'' too short')"
   ]
  },
  {
   "cell_type": "code",
   "execution_count": 10,
   "id": "dbd7805d-b3ec-4ef7-a6c7-1fd124131fc4",
   "metadata": {},
   "outputs": [
    {
     "name": "stdout",
     "output_type": "stream",
     "text": [
      "life is too short\n"
     ]
    }
   ],
   "source": [
    "# 문자열 띄어쓰기는 쉼표로\n",
    "print(\"life\",\"is\",\"too short\")"
   ]
  },
  {
   "cell_type": "code",
   "execution_count": 11,
   "id": "381f1093-9fe5-4de2-846c-631487d55203",
   "metadata": {},
   "outputs": [
    {
     "name": "stdout",
     "output_type": "stream",
     "text": [
      "0\n",
      "1\n",
      "2\n",
      "3\n",
      "4\n",
      "5\n",
      "6\n",
      "7\n",
      "8\n",
      "9\n"
     ]
    }
   ],
   "source": [
    "for i in range(10):\n",
    "    print(i)"
   ]
  },
  {
   "cell_type": "code",
   "execution_count": 12,
   "id": "0df9ff4a-f810-45f4-9e2b-2bcdd4ece15c",
   "metadata": {},
   "outputs": [
    {
     "name": "stdout",
     "output_type": "stream",
     "text": [
      "0 1 2 3 4 5 6 7 8 9 "
     ]
    }
   ],
   "source": [
    "# 한 줄에 값 출력\n",
    "for i in range(10):\n",
    "    print(i, end=\" \")"
   ]
  },
  {
   "cell_type": "markdown",
   "id": "0676501a-a01a-4d0e-8577-51ba51c99116",
   "metadata": {},
   "source": [
    "## 2. 파일 읽고 쓰기"
   ]
  },
  {
   "cell_type": "markdown",
   "id": "4f904a84-5e27-4160-9a31-c43324f9dc55",
   "metadata": {},
   "source": [
    "### 1) 파일 생성하기"
   ]
  },
  {
   "cell_type": "code",
   "execution_count": 13,
   "id": "afdda3e0-0a35-4689-86d3-2286407aa312",
   "metadata": {},
   "outputs": [],
   "source": [
    "f = open('newfile.txt', 'w')"
   ]
  },
  {
   "cell_type": "code",
   "execution_count": 14,
   "id": "5ebe3f82-3362-401e-bfd2-3e56b8c039d9",
   "metadata": {},
   "outputs": [],
   "source": [
    "f.close()"
   ]
  },
  {
   "cell_type": "code",
   "execution_count": 15,
   "id": "ff570a72-7987-4106-8985-da2d6262c4fd",
   "metadata": {},
   "outputs": [],
   "source": [
    "# 특정 경로에서 파일 생성\n",
    "f = open('C:\\\\Users\\\\404-00\\\\python_basic\\\\newfile2.txt', 'w')"
   ]
  },
  {
   "cell_type": "code",
   "execution_count": 16,
   "id": "ce4ad63b-44ce-4db7-8619-04a335298b47",
   "metadata": {},
   "outputs": [],
   "source": [
    "f.close()"
   ]
  },
  {
   "cell_type": "markdown",
   "id": "d960ca21-f424-4404-8663-5178a7601a9f",
   "metadata": {},
   "source": [
    "### 2)파일을 쓰기모드로 열어서 내용 쓰기"
   ]
  },
  {
   "cell_type": "code",
   "execution_count": 18,
   "id": "89eeb3be-fcc8-4f63-b1c7-ab1dc9f3bdd9",
   "metadata": {},
   "outputs": [],
   "source": [
    "f = open('newfile.txt', 'w')\n",
    "for i in range(1,11):\n",
    "    data = f\"{i}번째 줄입니다.\\n\"\n",
    "    f.write(data)\n",
    "f.close()"
   ]
  },
  {
   "cell_type": "markdown",
   "id": "6b1f2765-b1c7-4aad-b8cc-475332cfb92e",
   "metadata": {},
   "source": [
    "### 3) 파일을 읽는 여러가지 방법"
   ]
  },
  {
   "cell_type": "code",
   "execution_count": 19,
   "id": "192b101f-47f3-4b79-bf86-fe5eb4d38e11",
   "metadata": {},
   "outputs": [
    {
     "name": "stdout",
     "output_type": "stream",
     "text": [
      "1번째 줄입니다.\n",
      "\n"
     ]
    }
   ],
   "source": [
    "f = open('newfile.txt', 'r')\n",
    "line = f.readline()\n",
    "print(line)\n",
    "f.close()"
   ]
  },
  {
   "cell_type": "code",
   "execution_count": 20,
   "id": "b4d2a8f7-2b1a-4d01-9b58-2089a24d3840",
   "metadata": {},
   "outputs": [
    {
     "name": "stdout",
     "output_type": "stream",
     "text": [
      "1번째 줄입니다.\n",
      "\n",
      "2번째 줄입니다.\n",
      "\n",
      "3번째 줄입니다.\n",
      "\n",
      "4번째 줄입니다.\n",
      "\n",
      "5번째 줄입니다.\n",
      "\n",
      "6번째 줄입니다.\n",
      "\n",
      "7번째 줄입니다.\n",
      "\n",
      "8번째 줄입니다.\n",
      "\n",
      "9번째 줄입니다.\n",
      "\n",
      "10번째 줄입니다.\n",
      "\n"
     ]
    }
   ],
   "source": [
    "# readline 함수로 여러줄 읽기\n",
    "f = open('newfile.txt', 'r')\n",
    "while True:\n",
    "    line = f.readline()\n",
    "    if not line:\n",
    "        break\n",
    "    print(line)\n",
    "f.close()"
   ]
  },
  {
   "cell_type": "code",
   "execution_count": 22,
   "id": "b7eb844f-81e7-41b4-8917-3c9d0b95bfe4",
   "metadata": {},
   "outputs": [
    {
     "name": "stdin",
     "output_type": "stream",
     "text": [
      " a\n"
     ]
    },
    {
     "name": "stdout",
     "output_type": "stream",
     "text": [
      "a\n"
     ]
    },
    {
     "name": "stdin",
     "output_type": "stream",
     "text": [
      " b\n"
     ]
    },
    {
     "name": "stdout",
     "output_type": "stream",
     "text": [
      "b\n"
     ]
    },
    {
     "name": "stdin",
     "output_type": "stream",
     "text": [
      " c\n"
     ]
    },
    {
     "name": "stdout",
     "output_type": "stream",
     "text": [
      "c\n"
     ]
    },
    {
     "name": "stdin",
     "output_type": "stream",
     "text": [
      " \n"
     ]
    }
   ],
   "source": [
    "# 사용자 입력을 받아서 여러줄 출력하기\n",
    "while True:\n",
    "    data = input()\n",
    "    if not data:\n",
    "        break\n",
    "    print(data)        "
   ]
  },
  {
   "cell_type": "code",
   "execution_count": 24,
   "id": "8c49542d-91b2-4e09-a03c-8a085211c83c",
   "metadata": {},
   "outputs": [
    {
     "name": "stdout",
     "output_type": "stream",
     "text": [
      "['1번째 줄입니다.\\n', '2번째 줄입니다.\\n', '3번째 줄입니다.\\n', '4번째 줄입니다.\\n', '5번째 줄입니다.\\n', '6번째 줄입니다.\\n', '7번째 줄입니다.\\n', '8번째 줄입니다.\\n', '9번째 줄입니다.\\n', '10번째 줄입니다.\\n']\n",
      "--------------------------------------------------\n",
      "1번째 줄입니다.\n",
      "\n",
      "2번째 줄입니다.\n",
      "\n",
      "3번째 줄입니다.\n",
      "\n",
      "4번째 줄입니다.\n",
      "\n",
      "5번째 줄입니다.\n",
      "\n",
      "6번째 줄입니다.\n",
      "\n",
      "7번째 줄입니다.\n",
      "\n",
      "8번째 줄입니다.\n",
      "\n",
      "9번째 줄입니다.\n",
      "\n",
      "10번째 줄입니다.\n",
      "\n"
     ]
    }
   ],
   "source": [
    "# 여러줄 읽는 readlines()함수 사용하기\n",
    "f = open('newfile.txt', 'r')\n",
    "lines = f.readlines()\n",
    "print(lines)\n",
    "print('-'*50)\n",
    "for line in lines:\n",
    "    print(line)\n",
    "f.close()    "
   ]
  },
  {
   "cell_type": "code",
   "execution_count": 26,
   "id": "ecabc38b-da4b-4418-b12b-da43f8bdb1fa",
   "metadata": {},
   "outputs": [
    {
     "name": "stdout",
     "output_type": "stream",
     "text": [
      "1번째 줄입니다.\n",
      "2번째 줄입니다.\n",
      "3번째 줄입니다.\n",
      "4번째 줄입니다.\n",
      "5번째 줄입니다.\n",
      "6번째 줄입니다.\n",
      "7번째 줄입니다.\n",
      "8번째 줄입니다.\n",
      "9번째 줄입니다.\n",
      "10번째 줄입니다.\n"
     ]
    }
   ],
   "source": [
    "# 줄바꿈(\\n)문자 제거하기\n",
    "f = open('newfile.txt', 'r')\n",
    "lines = f.readlines()\n",
    "for line in lines:\n",
    "    line = line.strip()\n",
    "    print(line)\n",
    "f.close()"
   ]
  },
  {
   "cell_type": "code",
   "execution_count": 27,
   "id": "2e9a25c2-3367-4bab-a649-b8a3c746f70d",
   "metadata": {},
   "outputs": [
    {
     "name": "stdout",
     "output_type": "stream",
     "text": [
      "1번째 줄입니다.\n",
      "2번째 줄입니다.\n",
      "3번째 줄입니다.\n",
      "4번째 줄입니다.\n",
      "5번째 줄입니다.\n",
      "6번째 줄입니다.\n",
      "7번째 줄입니다.\n",
      "8번째 줄입니다.\n",
      "9번째 줄입니다.\n",
      "10번째 줄입니다.\n",
      "\n"
     ]
    }
   ],
   "source": [
    "# read함수로 파일 전체 내용 읽기\n",
    "f = open('newfile.txt', 'r')\n",
    "data = f.read()\n",
    "print(data)\n",
    "f.close()"
   ]
  },
  {
   "cell_type": "code",
   "execution_count": 28,
   "id": "b16c459d-47fc-42c8-8a27-edf7b847e520",
   "metadata": {},
   "outputs": [
    {
     "name": "stdout",
     "output_type": "stream",
     "text": [
      "1번째 줄입니다.\n",
      "\n",
      "2번째 줄입니다.\n",
      "\n",
      "3번째 줄입니다.\n",
      "\n",
      "4번째 줄입니다.\n",
      "\n",
      "5번째 줄입니다.\n",
      "\n",
      "6번째 줄입니다.\n",
      "\n",
      "7번째 줄입니다.\n",
      "\n",
      "8번째 줄입니다.\n",
      "\n",
      "9번째 줄입니다.\n",
      "\n",
      "10번째 줄입니다.\n",
      "\n"
     ]
    }
   ],
   "source": [
    "# 파일 객체를 for문으로 줄단위로 읽기\n",
    "f = open('newfile.txt','r')\n",
    "for line in f:\n",
    "    print(line)\n",
    "f.close()"
   ]
  },
  {
   "cell_type": "markdown",
   "id": "d0d35b06-5431-4ecf-b4f0-2b6caff6afc8",
   "metadata": {},
   "source": [
    "### 4) 파일에 새로운 내용 추가"
   ]
  },
  {
   "cell_type": "code",
   "execution_count": 29,
   "id": "aaa169b4-87ed-4f6a-86c2-230f27c3381a",
   "metadata": {},
   "outputs": [],
   "source": [
    "f= open('newfile.txt', 'a')\n",
    "for i in range(11,20):\n",
    "    data = f\"{i}번째 줄을 추가합니다.\\n\"\n",
    "    f.write(data)\n",
    "f.close()"
   ]
  },
  {
   "cell_type": "markdown",
   "id": "398529d6-3f98-4d6f-9c4a-b75a852d4f9a",
   "metadata": {},
   "source": [
    "### 5) with문과 함께 사용하기"
   ]
  },
  {
   "cell_type": "code",
   "execution_count": 30,
   "id": "b2e88371-adc1-4439-9312-af3948a92636",
   "metadata": {},
   "outputs": [],
   "source": [
    "with open('foo.txt', 'w') as f:\n",
    "    f.write(\"Life is too short, you need python!\")"
   ]
  },
  {
   "cell_type": "code",
   "execution_count": null,
   "id": "df4b32b3-f395-40b7-b510-aa86a484133c",
   "metadata": {},
   "outputs": [],
   "source": []
  }
 ],
 "metadata": {
  "kernelspec": {
   "display_name": "Python (base)",
   "language": "python",
   "name": "base"
  },
  "language_info": {
   "codemirror_mode": {
    "name": "ipython",
    "version": 3
   },
   "file_extension": ".py",
   "mimetype": "text/x-python",
   "name": "python",
   "nbconvert_exporter": "python",
   "pygments_lexer": "ipython3",
   "version": "3.13.5"
  }
 },
 "nbformat": 4,
 "nbformat_minor": 5
}
