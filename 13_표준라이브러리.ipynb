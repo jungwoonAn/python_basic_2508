{
 "cells": [
  {
   "cell_type": "markdown",
   "id": "5f7eb2bd-715f-44ce-8578-263fd943bc8e",
   "metadata": {},
   "source": [
    "### 날짜 표준 라이브러"
   ]
  },
  {
   "cell_type": "code",
   "execution_count": 3,
   "id": "3cbb41e4-8d29-489c-8272-87d790d1d52e",
   "metadata": {},
   "outputs": [],
   "source": [
    "import datetime\n",
    "\n",
    "day1 = datetime.date(2025,9,1)\n",
    "day2 = datetime.date(2026,4,5)"
   ]
  },
  {
   "cell_type": "code",
   "execution_count": 4,
   "id": "f4179546-d39a-4e9a-a89b-b2f97eaf77ec",
   "metadata": {},
   "outputs": [
    {
     "name": "stdout",
     "output_type": "stream",
     "text": [
      "216 days, 0:00:00\n"
     ]
    }
   ],
   "source": [
    "diff = day2 - day1\n",
    "print(diff)"
   ]
  },
  {
   "cell_type": "code",
   "execution_count": 5,
   "id": "fdf80cc9-a4f3-47a1-95c4-4aea97fd81f1",
   "metadata": {},
   "outputs": [
    {
     "data": {
      "text/plain": [
       "216"
      ]
     },
     "execution_count": 5,
     "metadata": {},
     "output_type": "execute_result"
    }
   ],
   "source": [
    "diff.days"
   ]
  },
  {
   "cell_type": "code",
   "execution_count": 6,
   "id": "d56b9582-003a-4a73-9029-a7b827535b4e",
   "metadata": {},
   "outputs": [
    {
     "data": {
      "text/plain": [
       "0"
      ]
     },
     "execution_count": 6,
     "metadata": {},
     "output_type": "execute_result"
    }
   ],
   "source": [
    "day1.weekday()  # 요일"
   ]
  },
  {
   "cell_type": "code",
   "execution_count": 7,
   "id": "74e56f18-9d0e-42f6-894b-f63e101962ac",
   "metadata": {},
   "outputs": [
    {
     "data": {
      "text/plain": [
       "6"
      ]
     },
     "execution_count": 7,
     "metadata": {},
     "output_type": "execute_result"
    }
   ],
   "source": [
    "day2.weekday()"
   ]
  },
  {
   "cell_type": "code",
   "execution_count": 8,
   "id": "1d7b0b02-ca64-4bc6-a911-3f967cc29366",
   "metadata": {},
   "outputs": [
    {
     "data": {
      "text/plain": [
       "1"
      ]
     },
     "execution_count": 8,
     "metadata": {},
     "output_type": "execute_result"
    }
   ],
   "source": [
    "day1.isoweekday()  # 월요일이 1, 일요일이 7"
   ]
  },
  {
   "cell_type": "code",
   "execution_count": 10,
   "id": "2eaf1e1f-bf50-44c0-acbc-61fba8c8a87b",
   "metadata": {},
   "outputs": [
    {
     "data": {
      "text/plain": [
       "datetime.date(2025, 9, 1)"
      ]
     },
     "execution_count": 10,
     "metadata": {},
     "output_type": "execute_result"
    }
   ],
   "source": [
    "today = datetime.date.today()\n",
    "today"
   ]
  },
  {
   "cell_type": "code",
   "execution_count": 12,
   "id": "2d13fa85-7b02-4f97-bcd2-5c3b70ee66de",
   "metadata": {},
   "outputs": [
    {
     "data": {
      "text/plain": [
       "'Mon Sep  1 00:00:00 2025'"
      ]
     },
     "execution_count": 12,
     "metadata": {},
     "output_type": "execute_result"
    }
   ],
   "source": [
    "today = datetime.date.today().ctime()\n",
    "today"
   ]
  },
  {
   "cell_type": "code",
   "execution_count": 13,
   "id": "bbf57681-fb78-4b96-9d4c-7de179ea2959",
   "metadata": {},
   "outputs": [
    {
     "data": {
      "text/plain": [
       "'Mon Sep  1 10:04:35 2025'"
      ]
     },
     "execution_count": 13,
     "metadata": {},
     "output_type": "execute_result"
    }
   ],
   "source": [
    "today = datetime.datetime.today().ctime()\n",
    "today"
   ]
  },
  {
   "cell_type": "code",
   "execution_count": 14,
   "id": "80ee6eeb-1ae3-4f21-9ec8-583af1510e17",
   "metadata": {},
   "outputs": [
    {
     "data": {
      "text/plain": [
       "1756688741.2358491"
      ]
     },
     "execution_count": 14,
     "metadata": {},
     "output_type": "execute_result"
    }
   ],
   "source": [
    "# time 객체\n",
    "import time\n",
    "\n",
    "time.time()"
   ]
  },
  {
   "cell_type": "code",
   "execution_count": 15,
   "id": "eee2b6fe-9cc7-47e0-b47b-6bac412b230e",
   "metadata": {},
   "outputs": [
    {
     "data": {
      "text/plain": [
       "time.struct_time(tm_year=2025, tm_mon=9, tm_mday=1, tm_hour=10, tm_min=6, tm_sec=33, tm_wday=0, tm_yday=244, tm_isdst=0)"
      ]
     },
     "execution_count": 15,
     "metadata": {},
     "output_type": "execute_result"
    }
   ],
   "source": [
    "time.localtime(time.time())"
   ]
  },
  {
   "cell_type": "code",
   "execution_count": 16,
   "id": "1b8e2078-1a9d-4c5f-8a92-de53efbfd91d",
   "metadata": {},
   "outputs": [
    {
     "data": {
      "text/plain": [
       "'Mon Sep  1 10:07:21 2025'"
      ]
     },
     "execution_count": 16,
     "metadata": {},
     "output_type": "execute_result"
    }
   ],
   "source": [
    "time.asctime(time.localtime(time.time()))"
   ]
  },
  {
   "cell_type": "code",
   "execution_count": 17,
   "id": "e8cc9e3c-5c34-4d95-86e8-2e035c9c0a77",
   "metadata": {},
   "outputs": [
    {
     "data": {
      "text/plain": [
       "'Mon Sep  1 10:07:49 2025'"
      ]
     },
     "execution_count": 17,
     "metadata": {},
     "output_type": "execute_result"
    }
   ],
   "source": [
    "time.ctime()"
   ]
  },
  {
   "cell_type": "code",
   "execution_count": 18,
   "id": "b5634631-e5c0-4712-97fc-72322229ff08",
   "metadata": {},
   "outputs": [
    {
     "data": {
      "text/plain": [
       "'09/01/25'"
      ]
     },
     "execution_count": 18,
     "metadata": {},
     "output_type": "execute_result"
    }
   ],
   "source": [
    "time.strftime('%x', time.localtime(time.time()))"
   ]
  },
  {
   "cell_type": "code",
   "execution_count": 19,
   "id": "de927ebd-f016-478d-8ae4-751825323019",
   "metadata": {},
   "outputs": [
    {
     "data": {
      "text/plain": [
       "'Mon Sep  1 10:10:16 2025'"
      ]
     },
     "execution_count": 19,
     "metadata": {},
     "output_type": "execute_result"
    }
   ],
   "source": [
    "time.strftime('%c', time.localtime(time.time()))"
   ]
  },
  {
   "cell_type": "code",
   "execution_count": 21,
   "id": "2b63bbec-bdd1-45cb-9de9-d4a115f0faf0",
   "metadata": {},
   "outputs": [
    {
     "name": "stdout",
     "output_type": "stream",
     "text": [
      "0\n",
      "1\n",
      "2\n",
      "3\n",
      "4\n",
      "5\n",
      "6\n",
      "7\n",
      "8\n",
      "9\n"
     ]
    }
   ],
   "source": [
    "import time\n",
    "for i in range(10):\n",
    "    print(i)\n",
    "    time.sleep(1)"
   ]
  },
  {
   "cell_type": "markdown",
   "id": "fce501ff-62c7-469c-9c74-ee43b653f8bc",
   "metadata": {},
   "source": [
    "### random 표준 라이브러리"
   ]
  },
  {
   "cell_type": "code",
   "execution_count": 31,
   "id": "bee4dfe6-78f8-42a1-922f-d2e3ea728295",
   "metadata": {},
   "outputs": [
    {
     "data": {
      "text/plain": [
       "0.14569904950045431"
      ]
     },
     "execution_count": 31,
     "metadata": {},
     "output_type": "execute_result"
    }
   ],
   "source": [
    "import random\n",
    "random.random()"
   ]
  },
  {
   "cell_type": "code",
   "execution_count": 39,
   "id": "91c1ef58-a0e8-457c-b827-f36a413438e2",
   "metadata": {},
   "outputs": [
    {
     "data": {
      "text/plain": [
       "10"
      ]
     },
     "execution_count": 39,
     "metadata": {},
     "output_type": "execute_result"
    }
   ],
   "source": [
    "random.randint(1,10)"
   ]
  },
  {
   "cell_type": "code",
   "execution_count": 45,
   "id": "29db10c4-a78c-4b47-bf8c-721b380d39dc",
   "metadata": {},
   "outputs": [
    {
     "data": {
      "text/plain": [
       "51"
      ]
     },
     "execution_count": 45,
     "metadata": {},
     "output_type": "execute_result"
    }
   ],
   "source": [
    "random.randint(1,55)"
   ]
  },
  {
   "cell_type": "code",
   "execution_count": 52,
   "id": "d1e43398-c59a-472a-9e15-d7dd82a29151",
   "metadata": {},
   "outputs": [
    {
     "name": "stdout",
     "output_type": "stream",
     "text": [
      "5\n",
      "4\n",
      "2\n",
      "1\n",
      "3\n"
     ]
    }
   ],
   "source": [
    "# 리스트에서 무작위로 하나를 선택하여 리턴하는 함수\n",
    "import random\n",
    "\n",
    "def random_pop(data):\n",
    "    num = random.randint(0,len(data)-1)\n",
    "    return data.pop(num)\n",
    "\n",
    "data = [1,2,3,4,5]\n",
    "while data:\n",
    "    print(random_pop(data))"
   ]
  },
  {
   "cell_type": "code",
   "execution_count": 56,
   "id": "1c7de44b-1a66-4fa8-ba66-3a1c4be15bc9",
   "metadata": {},
   "outputs": [
    {
     "name": "stdout",
     "output_type": "stream",
     "text": [
      "3\n",
      "2\n",
      "4\n",
      "5\n",
      "1\n"
     ]
    }
   ],
   "source": [
    "def random_pop(data):\n",
    "    num = random.choice(data)\n",
    "    data.remove(num)\n",
    "    return num\n",
    "\n",
    "data = [1,2,3,4,5]\n",
    "while data:\n",
    "    print(random_pop(data))"
   ]
  },
  {
   "cell_type": "code",
   "execution_count": 64,
   "id": "c4b85735-2319-4c2c-a6f5-a211bae66609",
   "metadata": {},
   "outputs": [
    {
     "data": {
      "text/plain": [
       "[1, 3, 2, 4, 5]"
      ]
     },
     "execution_count": 64,
     "metadata": {},
     "output_type": "execute_result"
    }
   ],
   "source": [
    "data = [1,2,3,4,5]\n",
    "random.sample(data, len(data))"
   ]
  },
  {
   "cell_type": "markdown",
   "id": "1c3a170f-1025-43b4-8456-e128b7d0aef5",
   "metadata": {},
   "source": [
    "### pickle 표준 라이브러리"
   ]
  },
  {
   "cell_type": "code",
   "execution_count": 66,
   "id": "93876373-0c21-4f9b-8891-807c1856f360",
   "metadata": {},
   "outputs": [],
   "source": [
    "import pickle\n",
    "\n",
    "f = open('test.txt', 'wb')\n",
    "data = {1: 'python', 2: 'you need'}\n",
    "pickle.dump(data, f)\n",
    "f.close()"
   ]
  },
  {
   "cell_type": "code",
   "execution_count": 68,
   "id": "4db65fc8-feaf-4a69-8a8e-ea35ee114456",
   "metadata": {},
   "outputs": [
    {
     "name": "stdout",
     "output_type": "stream",
     "text": [
      "{1: 'python', 2: 'you need'}\n"
     ]
    }
   ],
   "source": [
    "f = open('test.txt', 'rb')\n",
    "content = pickle.load(f)\n",
    "print(content)\n",
    "f.close()"
   ]
  },
  {
   "cell_type": "markdown",
   "id": "f5b56d4f-2f2e-4847-8ccb-acfa15262f11",
   "metadata": {},
   "source": [
    "### 정규 표현식"
   ]
  },
  {
   "cell_type": "code",
   "execution_count": 73,
   "id": "216ab64d-4565-41a3-a49f-2780dd03ae9a",
   "metadata": {},
   "outputs": [
    {
     "name": "stdout",
     "output_type": "stream",
     "text": [
      "123\n"
     ]
    }
   ],
   "source": [
    "import re\n",
    "\n",
    "pattern = re.compile(r'\\d+')\n",
    "match = pattern.match('123abc456def')\n",
    "\n",
    "if match:\n",
    "    print(match.group())"
   ]
  },
  {
   "cell_type": "code",
   "execution_count": 74,
   "id": "3fd4d1f1-ca77-43a2-b18c-f193634253cb",
   "metadata": {},
   "outputs": [
    {
     "name": "stdout",
     "output_type": "stream",
     "text": [
      "abc\n"
     ]
    }
   ],
   "source": [
    "pattern = re.compile(r'\\D+')\n",
    "match = pattern.search('123abc456def')\n",
    "\n",
    "if match:\n",
    "    print(match.group())"
   ]
  },
  {
   "cell_type": "code",
   "execution_count": 72,
   "id": "6fed7283-13fa-4598-9bd1-014e11d620ae",
   "metadata": {},
   "outputs": [
    {
     "name": "stdout",
     "output_type": "stream",
     "text": [
      "['abc', 'def']\n"
     ]
    }
   ],
   "source": [
    "pattern = re.compile(r'\\D+')\n",
    "matches = pattern.findall('123abc456def')\n",
    "print(matches)"
   ]
  },
  {
   "cell_type": "code",
   "execution_count": 75,
   "id": "1b495b2d-8888-485e-8a5d-98ddb8a05b31",
   "metadata": {},
   "outputs": [
    {
     "name": "stdout",
     "output_type": "stream",
     "text": [
      "NUMabcNUMdef\n"
     ]
    }
   ],
   "source": [
    "pattern = re.compile(r'\\d+')\n",
    "result = pattern.sub('NUM', '123abc456def')\n",
    "print(result)"
   ]
  },
  {
   "cell_type": "code",
   "execution_count": null,
   "id": "021567f8-a373-4632-b33c-9cda377ee913",
   "metadata": {},
   "outputs": [],
   "source": []
  }
 ],
 "metadata": {
  "kernelspec": {
   "display_name": "Python (base)",
   "language": "python",
   "name": "base"
  },
  "language_info": {
   "codemirror_mode": {
    "name": "ipython",
    "version": 3
   },
   "file_extension": ".py",
   "mimetype": "text/x-python",
   "name": "python",
   "nbconvert_exporter": "python",
   "pygments_lexer": "ipython3",
   "version": "3.13.5"
  }
 },
 "nbformat": 4,
 "nbformat_minor": 5
}
