{
 "cells": [
  {
   "cell_type": "markdown",
   "id": "2497e842-f14c-4c5b-8ec9-745c9fbb16af",
   "metadata": {},
   "source": [
    "## 3-2_자료형 - 문자열"
   ]
  },
  {
   "cell_type": "code",
   "execution_count": 1,
   "id": "d6a35d98-fb67-4b7f-b7c4-0214f8a870f9",
   "metadata": {},
   "outputs": [
    {
     "name": "stdout",
     "output_type": "stream",
     "text": [
      "Python's favorite food is perl\n",
      "<class 'str'>\n"
     ]
    }
   ],
   "source": [
    "food = \"Python's favorite food is perl\"\n",
    "print(food)\n",
    "print(type(food))"
   ]
  },
  {
   "cell_type": "code",
   "execution_count": 2,
   "id": "ac579e0f-b2ec-4635-8bbb-518a26b680ec",
   "metadata": {},
   "outputs": [
    {
     "ename": "SyntaxError",
     "evalue": "unterminated string literal (detected at line 1) (1796603647.py, line 1)",
     "output_type": "error",
     "traceback": [
      "\u001b[1;36m  Cell \u001b[1;32mIn[2], line 1\u001b[1;36m\u001b[0m\n\u001b[1;33m    food = 'Python's favorite food is perl'\u001b[0m\n\u001b[1;37m                                          ^\u001b[0m\n\u001b[1;31mSyntaxError\u001b[0m\u001b[1;31m:\u001b[0m unterminated string literal (detected at line 1)\n"
     ]
    }
   ],
   "source": [
    "food = 'Python's favorite food is perl'\n",
    "print(food)\n",
    "print(type(food))"
   ]
  },
  {
   "cell_type": "code",
   "execution_count": 3,
   "id": "252708c7-fb7f-492c-b91d-08daee956b6c",
   "metadata": {},
   "outputs": [
    {
     "name": "stdout",
     "output_type": "stream",
     "text": [
      "Python's favorite food is perl\n",
      "<class 'str'>\n"
     ]
    }
   ],
   "source": [
    "food = 'Python\\'s favorite food is perl'\n",
    "print(food)\n",
    "print(type(food))"
   ]
  },
  {
   "cell_type": "code",
   "execution_count": 4,
   "id": "44e50367-d9f2-4e98-9eac-14dfd39cfc1d",
   "metadata": {},
   "outputs": [
    {
     "data": {
      "text/plain": [
       "'\"Python is very easy.\" he says.'"
      ]
     },
     "execution_count": 4,
     "metadata": {},
     "output_type": "execute_result"
    }
   ],
   "source": [
    "say = '\"Python is very easy.\" he says.'\n",
    "say"
   ]
  },
  {
   "cell_type": "code",
   "execution_count": 5,
   "id": "f62c14d6-9eb5-4f8d-b20c-f32c08bd10a0",
   "metadata": {},
   "outputs": [
    {
     "name": "stdout",
     "output_type": "stream",
     "text": [
      "\"Python is very easy.\" he says.\n"
     ]
    }
   ],
   "source": [
    "print(say)"
   ]
  },
  {
   "cell_type": "code",
   "execution_count": 6,
   "id": "8980cd6f-0cd3-4068-bb06-4c5fcbc17b62",
   "metadata": {},
   "outputs": [
    {
     "ename": "SyntaxError",
     "evalue": "invalid syntax (1849143266.py, line 1)",
     "output_type": "error",
     "traceback": [
      "\u001b[1;36m  Cell \u001b[1;32mIn[6], line 1\u001b[1;36m\u001b[0m\n\u001b[1;33m    say = \"\"Python is very easy.\" he says.\"\u001b[0m\n\u001b[1;37m            ^\u001b[0m\n\u001b[1;31mSyntaxError\u001b[0m\u001b[1;31m:\u001b[0m invalid syntax\n"
     ]
    }
   ],
   "source": [
    "say = \"\"Python is very easy.\" he says.\"\n",
    "say"
   ]
  },
  {
   "cell_type": "code",
   "execution_count": 7,
   "id": "861918ef-18f3-4a90-a021-fc701ebf7620",
   "metadata": {},
   "outputs": [
    {
     "data": {
      "text/plain": [
       "'\"Python is very easy.\" he says.'"
      ]
     },
     "execution_count": 7,
     "metadata": {},
     "output_type": "execute_result"
    }
   ],
   "source": [
    "say = \"\\\"Python is very easy.\\\" he says.\"\n",
    "say"
   ]
  },
  {
   "cell_type": "markdown",
   "id": "f42d7c82-4275-4dd6-8560-40c95efb4b9e",
   "metadata": {},
   "source": [
    "### 여러줄 문자열"
   ]
  },
  {
   "cell_type": "code",
   "execution_count": 8,
   "id": "b721638e-b332-42c8-a6ba-2d74dbc09f59",
   "metadata": {},
   "outputs": [
    {
     "name": "stdout",
     "output_type": "stream",
     "text": [
      "Life is too short You need python\n"
     ]
    }
   ],
   "source": [
    "multiline = \"Life is too short You need python\"\n",
    "print(multiline)"
   ]
  },
  {
   "cell_type": "code",
   "execution_count": 10,
   "id": "b7e90664-c17e-49b0-af97-a663e2fcc952",
   "metadata": {},
   "outputs": [
    {
     "name": "stdout",
     "output_type": "stream",
     "text": [
      "Life is too short\n",
      "You need python\n"
     ]
    }
   ],
   "source": [
    "multiline = \"Life is too short\\nYou need python\"\n",
    "print(multiline)"
   ]
  },
  {
   "cell_type": "code",
   "execution_count": 12,
   "id": "a2424813-c7dd-480c-9d30-3738d4025cc4",
   "metadata": {},
   "outputs": [
    {
     "name": "stdout",
     "output_type": "stream",
     "text": [
      "\n",
      "Life is too short\n",
      "You need python\n",
      "\n"
     ]
    }
   ],
   "source": [
    "multiline = \"\"\"\n",
    "Life is too short\n",
    "You need python\n",
    "\"\"\"\n",
    "print(multiline)"
   ]
  },
  {
   "cell_type": "code",
   "execution_count": 14,
   "id": "85919295-b451-442e-993c-7517ca4e1ea7",
   "metadata": {},
   "outputs": [
    {
     "name": "stdout",
     "output_type": "stream",
     "text": [
      "\n",
      "Life is too short\n",
      "You need python\n",
      "\n"
     ]
    }
   ],
   "source": [
    "multiline = '''\n",
    "Life is too short\n",
    "You need python\n",
    "'''\n",
    "\n",
    "print(multiline)"
   ]
  },
  {
   "cell_type": "markdown",
   "id": "419b2133-d605-46d0-8c5e-26321c2af859",
   "metadata": {},
   "source": [
    "### 문자열 연산"
   ]
  },
  {
   "cell_type": "code",
   "execution_count": 15,
   "id": "e59937d6-4da2-4f64-9d8a-b4a8a8595b07",
   "metadata": {},
   "outputs": [
    {
     "data": {
      "text/plain": [
       "'Python is fun!'"
      ]
     },
     "execution_count": 15,
     "metadata": {},
     "output_type": "execute_result"
    }
   ],
   "source": [
    "head = \"Python\"\n",
    "tail = \" is fun!\"\n",
    "\n",
    "head + tail"
   ]
  },
  {
   "cell_type": "code",
   "execution_count": 17,
   "id": "0e50b842-7250-48bc-a57c-367a40b82efd",
   "metadata": {},
   "outputs": [
    {
     "name": "stdout",
     "output_type": "stream",
     "text": [
      "python python \n",
      "python python python \n"
     ]
    }
   ],
   "source": [
    "a = \"python \"\n",
    "print(a*2)\n",
    "print(a*3)"
   ]
  },
  {
   "cell_type": "code",
   "execution_count": 20,
   "id": "061f3236-fbfc-42b8-9cfe-c620692e2e65",
   "metadata": {},
   "outputs": [
    {
     "name": "stdout",
     "output_type": "stream",
     "text": [
      "==================================================\n",
      "Python\n",
      "==================================================\n"
     ]
    }
   ],
   "source": [
    "print('='*50)\n",
    "print('Python')\n",
    "print('='*50)"
   ]
  },
  {
   "cell_type": "code",
   "execution_count": 21,
   "id": "8b61c7fa-8406-4bea-9050-c33c02da3316",
   "metadata": {},
   "outputs": [
    {
     "name": "stdout",
     "output_type": "stream",
     "text": [
      "=============================\n"
     ]
    }
   ],
   "source": [
    "print('=============================')"
   ]
  },
  {
   "cell_type": "markdown",
   "id": "cd8fc2f5-5bf7-4689-bdd6-6c6866365691",
   "metadata": {},
   "source": [
    "### 문자열 길이 구하기"
   ]
  },
  {
   "cell_type": "code",
   "execution_count": 22,
   "id": "0698c4c6-4232-485f-bfd1-8c1fe567481c",
   "metadata": {},
   "outputs": [
    {
     "data": {
      "text/plain": [
       "17"
      ]
     },
     "execution_count": 22,
     "metadata": {},
     "output_type": "execute_result"
    }
   ],
   "source": [
    "a = \"Life is too short\"\n",
    "len(a)"
   ]
  },
  {
   "cell_type": "markdown",
   "id": "816ffa34-3d12-460a-83da-278b9b0f38cc",
   "metadata": {},
   "source": [
    "### 문자열 인덱싱"
   ]
  },
  {
   "cell_type": "code",
   "execution_count": 23,
   "id": "b28c59b6-c7c2-4514-9a59-c50db8622174",
   "metadata": {},
   "outputs": [],
   "source": [
    "a = \"Life is too short, You need Python\""
   ]
  },
  {
   "cell_type": "code",
   "execution_count": 24,
   "id": "e23e0199-4165-4893-9448-b4dd3e9a3915",
   "metadata": {},
   "outputs": [
    {
     "data": {
      "text/plain": [
       "'L'"
      ]
     },
     "execution_count": 24,
     "metadata": {},
     "output_type": "execute_result"
    }
   ],
   "source": [
    "a[0]"
   ]
  },
  {
   "cell_type": "code",
   "execution_count": 25,
   "id": "85fec2af-0538-4058-97e6-978241288c94",
   "metadata": {},
   "outputs": [
    {
     "data": {
      "text/plain": [
       "'i'"
      ]
     },
     "execution_count": 25,
     "metadata": {},
     "output_type": "execute_result"
    }
   ],
   "source": [
    "a[5]"
   ]
  },
  {
   "cell_type": "code",
   "execution_count": 26,
   "id": "386d66a0-ebbf-4238-8513-c62605033284",
   "metadata": {},
   "outputs": [
    {
     "data": {
      "text/plain": [
       "34"
      ]
     },
     "execution_count": 26,
     "metadata": {},
     "output_type": "execute_result"
    }
   ],
   "source": [
    "len(a)"
   ]
  },
  {
   "cell_type": "code",
   "execution_count": 27,
   "id": "71aecb93-32b3-4fc5-a8a2-8604867b55d0",
   "metadata": {},
   "outputs": [
    {
     "data": {
      "text/plain": [
       "'n'"
      ]
     },
     "execution_count": 27,
     "metadata": {},
     "output_type": "execute_result"
    }
   ],
   "source": [
    "a[33]"
   ]
  },
  {
   "cell_type": "code",
   "execution_count": 28,
   "id": "399bc9fc-90c0-4bea-ac8d-1b2613e7ac8c",
   "metadata": {},
   "outputs": [
    {
     "data": {
      "text/plain": [
       "'n'"
      ]
     },
     "execution_count": 28,
     "metadata": {},
     "output_type": "execute_result"
    }
   ],
   "source": [
    "a[-1]  # 뒤에서 부터 찾기"
   ]
  },
  {
   "cell_type": "code",
   "execution_count": 29,
   "id": "83b687bf-20e1-4a78-8714-b68815c8d593",
   "metadata": {},
   "outputs": [
    {
     "data": {
      "text/plain": [
       "'o'"
      ]
     },
     "execution_count": 29,
     "metadata": {},
     "output_type": "execute_result"
    }
   ],
   "source": [
    "a[-2]  # 뒤에서 두번쨰"
   ]
  },
  {
   "cell_type": "markdown",
   "id": "a8d9043a-7ec8-4c35-9103-35b8e8b7f42a",
   "metadata": {},
   "source": [
    "### 문자열 슬라이싱"
   ]
  },
  {
   "cell_type": "code",
   "execution_count": 30,
   "id": "80ee9a0d-f490-4c5c-8c0d-498690f8659b",
   "metadata": {},
   "outputs": [
    {
     "name": "stdout",
     "output_type": "stream",
     "text": [
      "Life\n"
     ]
    }
   ],
   "source": [
    "b = a[0] + a[1] + a[2] + a[3]\n",
    "print(b)"
   ]
  },
  {
   "cell_type": "code",
   "execution_count": 31,
   "id": "8c54525f-1ba4-4253-9328-7525d4adbe0e",
   "metadata": {},
   "outputs": [
    {
     "data": {
      "text/plain": [
       "'Life'"
      ]
     },
     "execution_count": 31,
     "metadata": {},
     "output_type": "execute_result"
    }
   ],
   "source": [
    "a[0:4]"
   ]
  },
  {
   "cell_type": "code",
   "execution_count": 33,
   "id": "6569e017-351f-4a0b-84ce-d356fb256683",
   "metadata": {},
   "outputs": [
    {
     "data": {
      "text/plain": [
       "'short'"
      ]
     },
     "execution_count": 33,
     "metadata": {},
     "output_type": "execute_result"
    }
   ],
   "source": [
    "# 문자열에서 short문자 슬라이싱\n",
    "a[12:17]"
   ]
  },
  {
   "cell_type": "code",
   "execution_count": 34,
   "id": "52b19fbf-52be-44cf-968b-f7056b1f65a5",
   "metadata": {},
   "outputs": [
    {
     "data": {
      "text/plain": [
       "'need'"
      ]
     },
     "execution_count": 34,
     "metadata": {},
     "output_type": "execute_result"
    }
   ],
   "source": [
    "# need\n",
    "a[23:27]"
   ]
  },
  {
   "cell_type": "code",
   "execution_count": 35,
   "id": "4104b0a3-6461-43fe-a378-079efbb6558d",
   "metadata": {},
   "outputs": [
    {
     "data": {
      "text/plain": [
       "'need '"
      ]
     },
     "execution_count": 35,
     "metadata": {},
     "output_type": "execute_result"
    }
   ],
   "source": [
    "a[23:28]"
   ]
  },
  {
   "cell_type": "code",
   "execution_count": 36,
   "id": "871be869-9176-4b24-ab97-ce8954cc3afc",
   "metadata": {},
   "outputs": [
    {
     "data": {
      "text/plain": [
       "'Python'"
      ]
     },
     "execution_count": 36,
     "metadata": {},
     "output_type": "execute_result"
    }
   ],
   "source": [
    "a[28:34]"
   ]
  },
  {
   "cell_type": "code",
   "execution_count": 37,
   "id": "7954f973-33a6-4d9b-b1e1-12be7970ba2d",
   "metadata": {},
   "outputs": [
    {
     "data": {
      "text/plain": [
       "'Python'"
      ]
     },
     "execution_count": 37,
     "metadata": {},
     "output_type": "execute_result"
    }
   ],
   "source": [
    "a[28:]"
   ]
  },
  {
   "cell_type": "code",
   "execution_count": 38,
   "id": "907678dd-b1ae-4181-9e1e-63c8366b8dae",
   "metadata": {},
   "outputs": [
    {
     "data": {
      "text/plain": [
       "'Life'"
      ]
     },
     "execution_count": 38,
     "metadata": {},
     "output_type": "execute_result"
    }
   ],
   "source": [
    "a[:4]"
   ]
  },
  {
   "cell_type": "code",
   "execution_count": 39,
   "id": "2ba7f695-1f5b-4ef4-9421-027097c6ca19",
   "metadata": {},
   "outputs": [
    {
     "data": {
      "text/plain": [
       "'Life is too short'"
      ]
     },
     "execution_count": 39,
     "metadata": {},
     "output_type": "execute_result"
    }
   ],
   "source": [
    "a[:17]"
   ]
  },
  {
   "cell_type": "code",
   "execution_count": 40,
   "id": "70e77103-b811-4884-b42b-770a0f592dec",
   "metadata": {},
   "outputs": [
    {
     "data": {
      "text/plain": [
       "'Life is too short, You need Python'"
      ]
     },
     "execution_count": 40,
     "metadata": {},
     "output_type": "execute_result"
    }
   ],
   "source": [
    "a"
   ]
  },
  {
   "cell_type": "code",
   "execution_count": 43,
   "id": "d16dd780-ccb3-40f8-b118-48701d110a26",
   "metadata": {},
   "outputs": [
    {
     "data": {
      "text/plain": [
       "'Python'"
      ]
     },
     "execution_count": 43,
     "metadata": {},
     "output_type": "execute_result"
    }
   ],
   "source": [
    "a[28:]"
   ]
  },
  {
   "cell_type": "code",
   "execution_count": 44,
   "id": "49742c28-dfe3-416c-b783-dfcfa574972a",
   "metadata": {},
   "outputs": [
    {
     "data": {
      "text/plain": [
       "''"
      ]
     },
     "execution_count": 44,
     "metadata": {},
     "output_type": "execute_result"
    }
   ],
   "source": [
    "a[28:0]  # 슬라이싱 안됨"
   ]
  },
  {
   "cell_type": "code",
   "execution_count": 45,
   "id": "f4acf284-586b-41dd-8e61-6c1da41994b0",
   "metadata": {},
   "outputs": [
    {
     "name": "stdout",
     "output_type": "stream",
     "text": [
      "<class 'str'>\n"
     ]
    }
   ],
   "source": [
    "a = \"123\"\n",
    "print(type(a))"
   ]
  },
  {
   "cell_type": "code",
   "execution_count": 46,
   "id": "e59bf7c9-3e6a-44a5-a53f-b06812772ec1",
   "metadata": {},
   "outputs": [
    {
     "ename": "TypeError",
     "evalue": "unsupported operand type(s) for /: 'str' and 'str'",
     "output_type": "error",
     "traceback": [
      "\u001b[1;31m---------------------------------------------------------------------------\u001b[0m",
      "\u001b[1;31mTypeError\u001b[0m                                 Traceback (most recent call last)",
      "Cell \u001b[1;32mIn[46], line 2\u001b[0m\n\u001b[0;32m      1\u001b[0m b\u001b[38;5;241m=\u001b[39m \u001b[38;5;124m\"\u001b[39m\u001b[38;5;124m10\u001b[39m\u001b[38;5;124m\"\u001b[39m\n\u001b[1;32m----> 2\u001b[0m a\u001b[38;5;241m/\u001b[39mb\n",
      "\u001b[1;31mTypeError\u001b[0m: unsupported operand type(s) for /: 'str' and 'str'"
     ]
    }
   ],
   "source": [
    "b= \"10\"\n",
    "a/b"
   ]
  },
  {
   "cell_type": "markdown",
   "id": "efb16771-5164-43a0-9adc-d488cb803ab9",
   "metadata": {},
   "source": [
    "### Pithon 문자열을 Python으로 바꾸려면?"
   ]
  },
  {
   "cell_type": "code",
   "execution_count": 1,
   "id": "22bee294-e26a-4d51-9d11-75ddeda493a2",
   "metadata": {},
   "outputs": [
    {
     "data": {
      "text/plain": [
       "'i'"
      ]
     },
     "execution_count": 1,
     "metadata": {},
     "output_type": "execute_result"
    }
   ],
   "source": [
    "a = 'Pithon'\n",
    "a[1]"
   ]
  },
  {
   "cell_type": "code",
   "execution_count": 2,
   "id": "26168575-5b54-49fc-92a7-9bcd1759d8c8",
   "metadata": {},
   "outputs": [
    {
     "ename": "TypeError",
     "evalue": "'str' object does not support item assignment",
     "output_type": "error",
     "traceback": [
      "\u001b[1;31m---------------------------------------------------------------------------\u001b[0m",
      "\u001b[1;31mTypeError\u001b[0m                                 Traceback (most recent call last)",
      "Cell \u001b[1;32mIn[2], line 1\u001b[0m\n\u001b[1;32m----> 1\u001b[0m a[\u001b[38;5;241m1\u001b[39m] \u001b[38;5;241m=\u001b[39m \u001b[38;5;124m'\u001b[39m\u001b[38;5;124my\u001b[39m\u001b[38;5;124m'\u001b[39m\n",
      "\u001b[1;31mTypeError\u001b[0m: 'str' object does not support item assignment"
     ]
    }
   ],
   "source": [
    "a[1] = 'y'"
   ]
  },
  {
   "cell_type": "code",
   "execution_count": 3,
   "id": "5b6df5bd-8b1e-408a-8bfe-b0ab54c132dc",
   "metadata": {},
   "outputs": [
    {
     "name": "stdout",
     "output_type": "stream",
     "text": [
      "def\n"
     ]
    }
   ],
   "source": [
    "b = 'abc'\n",
    "b = 'def'\n",
    "print(b)"
   ]
  },
  {
   "cell_type": "code",
   "execution_count": 4,
   "id": "469edd84-588f-4e50-8a06-d317aebb0d7e",
   "metadata": {},
   "outputs": [
    {
     "name": "stdout",
     "output_type": "stream",
     "text": [
      "Pithon\n"
     ]
    }
   ],
   "source": [
    "print(a)"
   ]
  },
  {
   "cell_type": "code",
   "execution_count": 5,
   "id": "9369cd4b-c3fa-489b-bc6f-bf00083327a1",
   "metadata": {},
   "outputs": [
    {
     "name": "stdout",
     "output_type": "stream",
     "text": [
      "Python\n"
     ]
    }
   ],
   "source": [
    "b = a[0] + 'y' + a[2:]\n",
    "print(b)"
   ]
  },
  {
   "cell_type": "markdown",
   "id": "224ade15-0aa4-47ad-b402-ebb914d2a22e",
   "metadata": {},
   "source": [
    "### 문자열 포매팅"
   ]
  },
  {
   "cell_type": "code",
   "execution_count": 6,
   "id": "b070c5d0-320b-4e0e-925b-e6e77160f329",
   "metadata": {},
   "outputs": [
    {
     "data": {
      "text/plain": [
       "'I eat 2 apples.'"
      ]
     },
     "execution_count": 6,
     "metadata": {},
     "output_type": "execute_result"
    }
   ],
   "source": [
    "\"I eat %d apples.\"%2"
   ]
  },
  {
   "cell_type": "code",
   "execution_count": 7,
   "id": "0b4a2047-f27b-4ec5-91b9-257cda734b49",
   "metadata": {},
   "outputs": [
    {
     "ename": "TypeError",
     "evalue": "%d format: a real number is required, not str",
     "output_type": "error",
     "traceback": [
      "\u001b[1;31m---------------------------------------------------------------------------\u001b[0m",
      "\u001b[1;31mTypeError\u001b[0m                                 Traceback (most recent call last)",
      "Cell \u001b[1;32mIn[7], line 1\u001b[0m\n\u001b[1;32m----> 1\u001b[0m \u001b[38;5;124m\"\u001b[39m\u001b[38;5;124mI eat \u001b[39m\u001b[38;5;132;01m%d\u001b[39;00m\u001b[38;5;124m apples.\u001b[39m\u001b[38;5;124m\"\u001b[39m\u001b[38;5;241m%\u001b[39m\u001b[38;5;124m\"\u001b[39m\u001b[38;5;124mabc\u001b[39m\u001b[38;5;124m\"\u001b[39m\n",
      "\u001b[1;31mTypeError\u001b[0m: %d format: a real number is required, not str"
     ]
    }
   ],
   "source": [
    "\"I eat %d apples.\"%\"abc\""
   ]
  },
  {
   "cell_type": "code",
   "execution_count": 8,
   "id": "780e1376-808e-4ca3-a83c-ac6424ac0e8c",
   "metadata": {},
   "outputs": [
    {
     "data": {
      "text/plain": [
       "'I eat abc apples.'"
      ]
     },
     "execution_count": 8,
     "metadata": {},
     "output_type": "execute_result"
    }
   ],
   "source": [
    "\"I eat %s apples.\"%\"abc\""
   ]
  },
  {
   "cell_type": "code",
   "execution_count": 9,
   "id": "1cafd560-ee06-48ff-86f9-b9b1f4c9dcfa",
   "metadata": {},
   "outputs": [
    {
     "data": {
      "text/plain": [
       "'I eat 5 apples.'"
      ]
     },
     "execution_count": 9,
     "metadata": {},
     "output_type": "execute_result"
    }
   ],
   "source": [
    "\"I eat %s apples.\"%5"
   ]
  },
  {
   "cell_type": "code",
   "execution_count": 10,
   "id": "855f9fc1-7439-40b4-a0b8-34f80f5e97e9",
   "metadata": {},
   "outputs": [
    {
     "data": {
      "text/plain": [
       "'I eat 3 apples.'"
      ]
     },
     "execution_count": 10,
     "metadata": {},
     "output_type": "execute_result"
    }
   ],
   "source": [
    "number = 3\n",
    "\"I eat %d apples.\"%number"
   ]
  },
  {
   "cell_type": "code",
   "execution_count": 12,
   "id": "213df493-e42c-4edd-b381-37eb11e1bf1c",
   "metadata": {},
   "outputs": [
    {
     "data": {
      "text/plain": [
       "'I ate 10 apples, so I was sick for three days.'"
      ]
     },
     "execution_count": 12,
     "metadata": {},
     "output_type": "execute_result"
    }
   ],
   "source": [
    "number=10\n",
    "day = \"three\"\n",
    "\"I ate %d apples, so I was sick for %s days.\"%(number, day)"
   ]
  },
  {
   "cell_type": "code",
   "execution_count": 14,
   "id": "871549e2-ec84-470e-bacd-3d3d30f1e988",
   "metadata": {},
   "outputs": [
    {
     "ename": "ValueError",
     "evalue": "incomplete format",
     "output_type": "error",
     "traceback": [
      "\u001b[1;31m---------------------------------------------------------------------------\u001b[0m",
      "\u001b[1;31mValueError\u001b[0m                                Traceback (most recent call last)",
      "Cell \u001b[1;32mIn[14], line 2\u001b[0m\n\u001b[0;32m      1\u001b[0m \u001b[38;5;66;03m# 포맷코드와 문자%를 같이 사용\u001b[39;00m\n\u001b[1;32m----> 2\u001b[0m \u001b[38;5;124m\"\u001b[39m\u001b[38;5;124mError is \u001b[39m\u001b[38;5;132;01m%d\u001b[39;00m\u001b[38;5;124m%\u001b[39m\u001b[38;5;124m.\u001b[39m\u001b[38;5;124m\"\u001b[39m\u001b[38;5;241m%\u001b[39m\u001b[38;5;241m98\u001b[39m\n",
      "\u001b[1;31mValueError\u001b[0m: incomplete format"
     ]
    }
   ],
   "source": [
    "# 포맷코드와 문자%를 같이 사용\n",
    "\"Error is %d%.\"%98"
   ]
  },
  {
   "cell_type": "code",
   "execution_count": 15,
   "id": "13f07bfd-4d4e-4781-9278-20ff23afe101",
   "metadata": {},
   "outputs": [
    {
     "data": {
      "text/plain": [
       "'Error is 98%.'"
      ]
     },
     "execution_count": 15,
     "metadata": {},
     "output_type": "execute_result"
    }
   ],
   "source": [
    "\"Error is %d%%.\"%98"
   ]
  },
  {
   "cell_type": "code",
   "execution_count": 18,
   "id": "8ad1ce59-95d7-4850-8395-78b45d6ef518",
   "metadata": {},
   "outputs": [
    {
     "data": {
      "text/plain": [
       "'        hi'"
      ]
     },
     "execution_count": 18,
     "metadata": {},
     "output_type": "execute_result"
    }
   ],
   "source": [
    "a = \"%10s\"%\"hi\"\n",
    "a"
   ]
  },
  {
   "cell_type": "code",
   "execution_count": 19,
   "id": "711c83e5-c5be-4596-8999-a1f9c95ab835",
   "metadata": {},
   "outputs": [
    {
     "data": {
      "text/plain": [
       "10"
      ]
     },
     "execution_count": 19,
     "metadata": {},
     "output_type": "execute_result"
    }
   ],
   "source": [
    "len(a)"
   ]
  },
  {
   "cell_type": "code",
   "execution_count": 20,
   "id": "4b8fb062-791e-4a0d-bd0b-bbaae49ae392",
   "metadata": {},
   "outputs": [
    {
     "data": {
      "text/plain": [
       "'hi        '"
      ]
     },
     "execution_count": 20,
     "metadata": {},
     "output_type": "execute_result"
    }
   ],
   "source": [
    "a = \"%-10s\"%\"hi\"\n",
    "a"
   ]
  },
  {
   "cell_type": "code",
   "execution_count": 23,
   "id": "b49a32fa-4e57-47bb-9a1d-a156e332ee52",
   "metadata": {},
   "outputs": [
    {
     "data": {
      "text/plain": [
       "'3.4213'"
      ]
     },
     "execution_count": 23,
     "metadata": {},
     "output_type": "execute_result"
    }
   ],
   "source": [
    "\"%0.4f\"%3.42134234"
   ]
  },
  {
   "cell_type": "code",
   "execution_count": 26,
   "id": "6bf5df74-aa50-4231-b4ca-2fb4de99bff6",
   "metadata": {},
   "outputs": [
    {
     "data": {
      "text/plain": [
       "'    3.4213'"
      ]
     },
     "execution_count": 26,
     "metadata": {},
     "output_type": "execute_result"
    }
   ],
   "source": [
    "f = \"%10.4f\"%3.42134234\n",
    "f"
   ]
  },
  {
   "cell_type": "code",
   "execution_count": 27,
   "id": "f7dd3ed2-49ee-4b34-9cf9-19ec1950dcad",
   "metadata": {},
   "outputs": [
    {
     "data": {
      "text/plain": [
       "10"
      ]
     },
     "execution_count": 27,
     "metadata": {},
     "output_type": "execute_result"
    }
   ],
   "source": [
    "len(f)"
   ]
  },
  {
   "cell_type": "code",
   "execution_count": 28,
   "id": "64fd4a29-136d-45de-bfd4-329ca864300e",
   "metadata": {},
   "outputs": [
    {
     "data": {
      "text/plain": [
       "'I eat 3 apples.'"
      ]
     },
     "execution_count": 28,
     "metadata": {},
     "output_type": "execute_result"
    }
   ],
   "source": [
    "\"I eat {} apples.\".format(3)"
   ]
  },
  {
   "cell_type": "code",
   "execution_count": 29,
   "id": "ba1e903e-0d18-499c-b0a8-59f21f000d61",
   "metadata": {},
   "outputs": [
    {
     "data": {
      "text/plain": [
       "'I eat five apples.'"
      ]
     },
     "execution_count": 29,
     "metadata": {},
     "output_type": "execute_result"
    }
   ],
   "source": [
    "\"I eat {} apples.\".format(\"five\")"
   ]
  },
  {
   "cell_type": "code",
   "execution_count": 30,
   "id": "f8d88019-5171-4a16-9d6f-1b9234bb24ec",
   "metadata": {},
   "outputs": [
    {
     "data": {
      "text/plain": [
       "'I eat 3 apples.'"
      ]
     },
     "execution_count": 30,
     "metadata": {},
     "output_type": "execute_result"
    }
   ],
   "source": [
    "number = 3\n",
    "\"I eat {} apples.\".format(number)"
   ]
  },
  {
   "cell_type": "code",
   "execution_count": 31,
   "id": "e9f830ae-429a-4527-9b25-49c744a4ff04",
   "metadata": {},
   "outputs": [
    {
     "data": {
      "text/plain": [
       "'I ate 10 apples, so I was sick for three days.'"
      ]
     },
     "execution_count": 31,
     "metadata": {},
     "output_type": "execute_result"
    }
   ],
   "source": [
    "\"I ate {} apples, so I was sick for {} days.\".format(10, \"three\")"
   ]
  },
  {
   "cell_type": "code",
   "execution_count": 32,
   "id": "cc66b985-a42d-4799-97f0-d1763a4f0f32",
   "metadata": {},
   "outputs": [
    {
     "data": {
      "text/plain": [
       "'I ate three apples, so I was sick for 10 days.'"
      ]
     },
     "execution_count": 32,
     "metadata": {},
     "output_type": "execute_result"
    }
   ],
   "source": [
    "\"I ate {1} apples, so I was sick for {0} days.\".format(10, \"three\")"
   ]
  },
  {
   "cell_type": "code",
   "execution_count": 36,
   "id": "e0ba9e25-87b1-4b1a-b4d5-98e4b2e7a99f",
   "metadata": {},
   "outputs": [
    {
     "data": {
      "text/plain": [
       "'I ate 10 apples, so I was sick for 3 days.'"
      ]
     },
     "execution_count": 36,
     "metadata": {},
     "output_type": "execute_result"
    }
   ],
   "source": [
    "number = 10\n",
    "day = 3\n",
    "\n",
    "\"I ate {number} apples, so I was sick for {day} days.\".format(number=number, day=day)"
   ]
  },
  {
   "cell_type": "code",
   "execution_count": 37,
   "id": "79b5eb71-97cf-4993-929d-62640683e7bb",
   "metadata": {},
   "outputs": [
    {
     "data": {
      "text/plain": [
       "'hi        '"
      ]
     },
     "execution_count": 37,
     "metadata": {},
     "output_type": "execute_result"
    }
   ],
   "source": [
    "\"{:10}\".format('hi')"
   ]
  },
  {
   "cell_type": "code",
   "execution_count": 38,
   "id": "f636ffd0-3a03-46d1-87a6-de22d17c7677",
   "metadata": {},
   "outputs": [
    {
     "data": {
      "text/plain": [
       "'        hi'"
      ]
     },
     "execution_count": 38,
     "metadata": {},
     "output_type": "execute_result"
    }
   ],
   "source": [
    "\"{:>10}\".format('hi')"
   ]
  },
  {
   "cell_type": "code",
   "execution_count": 39,
   "id": "eba7ccbf-0c05-4b58-8223-bc425637149e",
   "metadata": {},
   "outputs": [
    {
     "data": {
      "text/plain": [
       "'    hi    '"
      ]
     },
     "execution_count": 39,
     "metadata": {},
     "output_type": "execute_result"
    }
   ],
   "source": [
    "\"{:^10}\".format('hi')"
   ]
  },
  {
   "cell_type": "code",
   "execution_count": 40,
   "id": "b12589b3-2db0-4b77-8459-5d64aa0780b0",
   "metadata": {},
   "outputs": [
    {
     "data": {
      "text/plain": [
       "'====hi===='"
      ]
     },
     "execution_count": 40,
     "metadata": {},
     "output_type": "execute_result"
    }
   ],
   "source": [
    "\"{:=^10}\".format('hi')"
   ]
  },
  {
   "cell_type": "code",
   "execution_count": 43,
   "id": "74dfcb06-8b55-4fd2-856c-5df29254af22",
   "metadata": {},
   "outputs": [
    {
     "data": {
      "text/plain": [
       "'hi!!!!!!!!'"
      ]
     },
     "execution_count": 43,
     "metadata": {},
     "output_type": "execute_result"
    }
   ],
   "source": [
    "\"{:!<10}\".format('hi')"
   ]
  },
  {
   "cell_type": "code",
   "execution_count": 44,
   "id": "7fef7a4a-66dd-41a9-90b9-7416b238d81b",
   "metadata": {},
   "outputs": [
    {
     "data": {
      "text/plain": [
       "'3.4213'"
      ]
     },
     "execution_count": 44,
     "metadata": {},
     "output_type": "execute_result"
    }
   ],
   "source": [
    "\"{:0.4f}\".format(3.42134234)"
   ]
  },
  {
   "cell_type": "code",
   "execution_count": 45,
   "id": "b11a8efe-f334-4ae8-8aec-890a81140831",
   "metadata": {},
   "outputs": [
    {
     "data": {
      "text/plain": [
       "'    3.4213'"
      ]
     },
     "execution_count": 45,
     "metadata": {},
     "output_type": "execute_result"
    }
   ],
   "source": [
    "\"{:10.4f}\".format(3.42134234)"
   ]
  },
  {
   "cell_type": "code",
   "execution_count": 46,
   "id": "afd85a12-74be-4f38-9ad9-de99655080f0",
   "metadata": {},
   "outputs": [
    {
     "data": {
      "text/plain": [
       "'{and}'"
      ]
     },
     "execution_count": 46,
     "metadata": {},
     "output_type": "execute_result"
    }
   ],
   "source": [
    "\"{{and}}\".format()"
   ]
  },
  {
   "cell_type": "code",
   "execution_count": 47,
   "id": "8487e4ae-f649-4fc6-8b4f-ebda90860ee0",
   "metadata": {},
   "outputs": [
    {
     "data": {
      "text/plain": [
       "'{and}'"
      ]
     },
     "execution_count": 47,
     "metadata": {},
     "output_type": "execute_result"
    }
   ],
   "source": [
    "\"{}\".format('{and}')"
   ]
  },
  {
   "cell_type": "code",
   "execution_count": 48,
   "id": "c6887a43-fb2e-476e-a5f3-cddf5576d360",
   "metadata": {},
   "outputs": [
    {
     "data": {
      "text/plain": [
       "'나의 이름은 안정운입니다. 나이는 30입니다.'"
      ]
     },
     "execution_count": 48,
     "metadata": {},
     "output_type": "execute_result"
    }
   ],
   "source": [
    "name = '안정운'\n",
    "age = 30\n",
    "\n",
    "f\"나의 이름은 {name}입니다. 나이는 {age}입니다.\""
   ]
  },
  {
   "cell_type": "code",
   "execution_count": 49,
   "id": "15011098-37ea-4227-b637-f5008b807fee",
   "metadata": {},
   "outputs": [
    {
     "data": {
      "text/plain": [
       "'나는 내년에 31살이 됩니다.'"
      ]
     },
     "execution_count": 49,
     "metadata": {},
     "output_type": "execute_result"
    }
   ],
   "source": [
    "age = 30\n",
    "f\"나는 내년에 {age+1}살이 됩니다.\""
   ]
  },
  {
   "cell_type": "code",
   "execution_count": 50,
   "id": "d08027eb-8060-4fff-b059-f75426e2c55c",
   "metadata": {},
   "outputs": [
    {
     "data": {
      "text/plain": [
       "'나의 이름은 안정운입니다. 나이는 30입니다.'"
      ]
     },
     "execution_count": 50,
     "metadata": {},
     "output_type": "execute_result"
    }
   ],
   "source": [
    "d = {'name': '안정운', 'age': 30}\n",
    "f\"나의 이름은 {d['name']}입니다. 나이는 {d['age']}입니다.\""
   ]
  },
  {
   "cell_type": "code",
   "execution_count": 51,
   "id": "a09d5da1-36e8-415c-b39a-a9c246ae9dc9",
   "metadata": {},
   "outputs": [
    {
     "data": {
      "text/plain": [
       "'hi        '"
      ]
     },
     "execution_count": 51,
     "metadata": {},
     "output_type": "execute_result"
    }
   ],
   "source": [
    "f\"{\"hi\":<10}\""
   ]
  },
  {
   "cell_type": "code",
   "execution_count": 52,
   "id": "e80a6f4c-de2a-4050-a033-337d7864b375",
   "metadata": {},
   "outputs": [
    {
     "data": {
      "text/plain": [
       "'        hi'"
      ]
     },
     "execution_count": 52,
     "metadata": {},
     "output_type": "execute_result"
    }
   ],
   "source": [
    "f\"{\"hi\":>10}\""
   ]
  },
  {
   "cell_type": "code",
   "execution_count": 53,
   "id": "1b1adfd9-1f28-4a5a-aec7-d08b3f2a92d8",
   "metadata": {},
   "outputs": [
    {
     "data": {
      "text/plain": [
       "'    hi    '"
      ]
     },
     "execution_count": 53,
     "metadata": {},
     "output_type": "execute_result"
    }
   ],
   "source": [
    "f\"{\"hi\":^10}\""
   ]
  },
  {
   "cell_type": "code",
   "execution_count": 56,
   "id": "8974f8ba-c4a1-46b4-87b1-61f40bce56cb",
   "metadata": {},
   "outputs": [
    {
     "name": "stdout",
     "output_type": "stream",
     "text": [
      "====hi====\n",
      "hi!!!!!!!!\n"
     ]
    }
   ],
   "source": [
    "print(f\"{\"hi\":=^10}\")\n",
    "print(f\"{\"hi\":!<10}\")"
   ]
  },
  {
   "cell_type": "code",
   "execution_count": 58,
   "id": "bbf256df-8cbb-46d8-b57b-be4c2bbc0ae4",
   "metadata": {},
   "outputs": [
    {
     "data": {
      "text/plain": [
       "'3.4213'"
      ]
     },
     "execution_count": 58,
     "metadata": {},
     "output_type": "execute_result"
    }
   ],
   "source": [
    "f\"{3.421342:0.4f}\""
   ]
  },
  {
   "cell_type": "code",
   "execution_count": 59,
   "id": "59e120e3-bb7e-4832-9b0b-c699d6b0d942",
   "metadata": {},
   "outputs": [
    {
     "data": {
      "text/plain": [
       "'    3.4213'"
      ]
     },
     "execution_count": 59,
     "metadata": {},
     "output_type": "execute_result"
    }
   ],
   "source": [
    "f\"{3.421342:10.4f}\""
   ]
  },
  {
   "cell_type": "code",
   "execution_count": 60,
   "id": "bcc2feb1-d23e-4176-9ac1-b549c749c76d",
   "metadata": {},
   "outputs": [
    {
     "data": {
      "text/plain": [
       "'{and}'"
      ]
     },
     "execution_count": 60,
     "metadata": {},
     "output_type": "execute_result"
    }
   ],
   "source": [
    "f\"{{and}}\""
   ]
  },
  {
   "cell_type": "markdown",
   "id": "abe998de-d3b1-45e2-ae0a-86de6223deda",
   "metadata": {},
   "source": [
    "## 문자열 관련 함수들"
   ]
  },
  {
   "cell_type": "code",
   "execution_count": 62,
   "id": "dd207e4f-cb98-4ab5-bae9-62c6441fd492",
   "metadata": {},
   "outputs": [
    {
     "data": {
      "text/plain": [
       "2"
      ]
     },
     "execution_count": 62,
     "metadata": {},
     "output_type": "execute_result"
    }
   ],
   "source": [
    "# count() : 문자 개수 세기\n",
    "\"hobby\".count('b')"
   ]
  },
  {
   "cell_type": "code",
   "execution_count": 63,
   "id": "6b8c51fb-26b0-486f-a4d3-50cc0577e985",
   "metadata": {},
   "outputs": [
    {
     "data": {
      "text/plain": [
       "6"
      ]
     },
     "execution_count": 63,
     "metadata": {},
     "output_type": "execute_result"
    }
   ],
   "source": [
    "\"abaedeeeeefffffccc\".count('e')"
   ]
  },
  {
   "cell_type": "code",
   "execution_count": 64,
   "id": "a55ec12d-dd7a-47b9-b3c3-5f6e137bf5a4",
   "metadata": {},
   "outputs": [
    {
     "data": {
      "text/plain": [
       "14"
      ]
     },
     "execution_count": 64,
     "metadata": {},
     "output_type": "execute_result"
    }
   ],
   "source": [
    "# find() : 위치 찾기\n",
    "\"Python is the best choice\".find('b')"
   ]
  },
  {
   "cell_type": "code",
   "execution_count": 66,
   "id": "da2a5d9f-a6f6-4bb9-bbe4-2d3510c1bcd8",
   "metadata": {},
   "outputs": [
    {
     "data": {
      "text/plain": [
       "-1"
      ]
     },
     "execution_count": 66,
     "metadata": {},
     "output_type": "execute_result"
    }
   ],
   "source": [
    "\"Python is the best choice\".find('k')  # 찾는 문자가 없으면 -1을 반환"
   ]
  },
  {
   "cell_type": "code",
   "execution_count": 67,
   "id": "abc6d830-e872-4551-8458-8d802f66281a",
   "metadata": {},
   "outputs": [
    {
     "data": {
      "text/plain": [
       "8"
      ]
     },
     "execution_count": 67,
     "metadata": {},
     "output_type": "execute_result"
    }
   ],
   "source": [
    "# index() : 위치 찾기\n",
    "a = \"Life is too short\"\n",
    "a.index('t')"
   ]
  },
  {
   "cell_type": "code",
   "execution_count": 68,
   "id": "e7afccd8-7766-4114-9e57-21424c96f503",
   "metadata": {},
   "outputs": [
    {
     "ename": "ValueError",
     "evalue": "substring not found",
     "output_type": "error",
     "traceback": [
      "\u001b[1;31m---------------------------------------------------------------------------\u001b[0m",
      "\u001b[1;31mValueError\u001b[0m                                Traceback (most recent call last)",
      "Cell \u001b[1;32mIn[68], line 1\u001b[0m\n\u001b[1;32m----> 1\u001b[0m a\u001b[38;5;241m.\u001b[39mindex(\u001b[38;5;124m'\u001b[39m\u001b[38;5;124mk\u001b[39m\u001b[38;5;124m'\u001b[39m)\n",
      "\u001b[1;31mValueError\u001b[0m: substring not found"
     ]
    }
   ],
   "source": [
    "a.index('k')"
   ]
  },
  {
   "cell_type": "code",
   "execution_count": 69,
   "id": "e96ad690-e37c-4d2f-9b76-e73eed011d88",
   "metadata": {},
   "outputs": [
    {
     "data": {
      "text/plain": [
       "'a,b,c,d'"
      ]
     },
     "execution_count": 69,
     "metadata": {},
     "output_type": "execute_result"
    }
   ],
   "source": [
    "# join() : 문자열 삽입\n",
    "\",\".join('abcd')"
   ]
  },
  {
   "cell_type": "code",
   "execution_count": 74,
   "id": "ed197d9b-7b43-4168-ba5d-ff592b428a42",
   "metadata": {},
   "outputs": [
    {
     "name": "stdout",
     "output_type": "stream",
     "text": [
      "['a', 'b', 'c', 'd']\n",
      "<class 'list'>\n"
     ]
    }
   ],
   "source": [
    "list = ['a', 'b', 'c', 'd']\n",
    "print(list)\n",
    "print(type(list))"
   ]
  },
  {
   "cell_type": "code",
   "execution_count": 83,
   "id": "d19d8ba1-bdfb-4a61-badc-2a6b85a258b1",
   "metadata": {},
   "outputs": [
    {
     "data": {
      "text/plain": [
       "'abcd'"
      ]
     },
     "execution_count": 83,
     "metadata": {},
     "output_type": "execute_result"
    }
   ],
   "source": [
    "\"\".join(list)"
   ]
  },
  {
   "cell_type": "code",
   "execution_count": 75,
   "id": "2e760ea0-f740-42da-801b-dbbd3cf1175b",
   "metadata": {},
   "outputs": [
    {
     "name": "stdout",
     "output_type": "stream",
     "text": [
      "a,b,c,d\n",
      "<class 'str'>\n"
     ]
    }
   ],
   "source": [
    "list_join = ','.join(list)\n",
    "print(list_join)\n",
    "print(type(list_join))"
   ]
  },
  {
   "cell_type": "code",
   "execution_count": 77,
   "id": "d4d0610c-5fe7-40f8-acbb-828ba83a4b2e",
   "metadata": {},
   "outputs": [
    {
     "name": "stdout",
     "output_type": "stream",
     "text": [
      "['a', 'b', 'c', 'd']\n"
     ]
    }
   ],
   "source": []
  },
  {
   "cell_type": "code",
   "execution_count": 78,
   "id": "824a2334-ac56-4db9-8174-ecb71fdf8673",
   "metadata": {},
   "outputs": [
    {
     "data": {
      "text/plain": [
       "'HI'"
      ]
     },
     "execution_count": 78,
     "metadata": {},
     "output_type": "execute_result"
    }
   ],
   "source": [
    "# upper() :  소문자를 대문자로\n",
    "\"hi\".upper()"
   ]
  },
  {
   "cell_type": "code",
   "execution_count": 79,
   "id": "45c57d43-cb85-45b4-83ab-f9c08478c8dd",
   "metadata": {},
   "outputs": [
    {
     "data": {
      "text/plain": [
       "'hi'"
      ]
     },
     "execution_count": 79,
     "metadata": {},
     "output_type": "execute_result"
    }
   ],
   "source": [
    "# lower() : 대문자를 소문자로\n",
    "\"HI\".lower()"
   ]
  },
  {
   "cell_type": "code",
   "execution_count": 80,
   "id": "46b83231-6323-4632-99d8-e364d5e29042",
   "metadata": {},
   "outputs": [
    {
     "data": {
      "text/plain": [
       "'hi   '"
      ]
     },
     "execution_count": 80,
     "metadata": {},
     "output_type": "execute_result"
    }
   ],
   "source": [
    "# lstrip() : 왼쪽 공백 제거\n",
    "\"  hi   \".lstrip()"
   ]
  },
  {
   "cell_type": "code",
   "execution_count": 81,
   "id": "3e920e1f-31a9-40ce-87f4-732ad721b8f4",
   "metadata": {},
   "outputs": [
    {
     "data": {
      "text/plain": [
       "'  hi'"
      ]
     },
     "execution_count": 81,
     "metadata": {},
     "output_type": "execute_result"
    }
   ],
   "source": [
    "# rstrip() : 오른쪽 공백 제거\n",
    "\"  hi   \".rstrip()"
   ]
  },
  {
   "cell_type": "code",
   "execution_count": 82,
   "id": "907ed609-6e78-4336-941b-86ceff635f5a",
   "metadata": {},
   "outputs": [
    {
     "data": {
      "text/plain": [
       "'hi'"
      ]
     },
     "execution_count": 82,
     "metadata": {},
     "output_type": "execute_result"
    }
   ],
   "source": [
    "# strip() : 양쪽 공백 제거\n",
    "\"  hi   \".strip()"
   ]
  },
  {
   "cell_type": "code",
   "execution_count": 84,
   "id": "2a5c41ab-b3d3-4ed8-9840-c905e54aa354",
   "metadata": {},
   "outputs": [
    {
     "data": {
      "text/plain": [
       "'Your leg is too short'"
      ]
     },
     "execution_count": 84,
     "metadata": {},
     "output_type": "execute_result"
    }
   ],
   "source": [
    "# replace() : 문자열 바꾸기\n",
    "\n",
    "\"Life is too short\".replace(\"Life\", \"Your leg\")"
   ]
  },
  {
   "cell_type": "code",
   "execution_count": 88,
   "id": "622865d7-bc66-459e-91fe-58b14a5af8ae",
   "metadata": {},
   "outputs": [
    {
     "name": "stdout",
     "output_type": "stream",
     "text": [
      "['Life', 'is', 'too', 'short']\n",
      "<class 'list'>\n"
     ]
    }
   ],
   "source": [
    "# split() :  문자열 나누기\n",
    "a = \"Life is too short\"\n",
    "b= a.split()\n",
    "\n",
    "print(b)\n",
    "print(type(b))"
   ]
  },
  {
   "cell_type": "code",
   "execution_count": 89,
   "id": "9e93e04d-b398-429c-baaa-480077e13379",
   "metadata": {},
   "outputs": [
    {
     "data": {
      "text/plain": [
       "['a', 'b', 'c', 'd']"
      ]
     },
     "execution_count": 89,
     "metadata": {},
     "output_type": "execute_result"
    }
   ],
   "source": [
    "c = \"a,b,c,d\"\n",
    "c.split(',')"
   ]
  },
  {
   "cell_type": "code",
   "execution_count": 90,
   "id": "77ea6463-f396-4a9c-9639-78fe04a00621",
   "metadata": {},
   "outputs": [
    {
     "data": {
      "text/plain": [
       "'HI'"
      ]
     },
     "execution_count": 90,
     "metadata": {},
     "output_type": "execute_result"
    }
   ],
   "source": [
    "a = \"hi\"\n",
    "a.upper()"
   ]
  },
  {
   "cell_type": "code",
   "execution_count": 91,
   "id": "e5d46644-292a-4410-abec-d62a0fb48d55",
   "metadata": {},
   "outputs": [
    {
     "data": {
      "text/plain": [
       "'hi'"
      ]
     },
     "execution_count": 91,
     "metadata": {},
     "output_type": "execute_result"
    }
   ],
   "source": [
    "a"
   ]
  },
  {
   "cell_type": "code",
   "execution_count": 92,
   "id": "4e0a75d1-d298-46a6-9b97-d16d9ac723e4",
   "metadata": {},
   "outputs": [
    {
     "data": {
      "text/plain": [
       "'HI'"
      ]
     },
     "execution_count": 92,
     "metadata": {},
     "output_type": "execute_result"
    }
   ],
   "source": [
    "a = a.upper()\n",
    "a"
   ]
  },
  {
   "cell_type": "code",
   "execution_count": null,
   "id": "dcab6c78-1e34-4603-9629-6f176fe9d2af",
   "metadata": {},
   "outputs": [],
   "source": []
  }
 ],
 "metadata": {
  "kernelspec": {
   "display_name": "Python (base)",
   "language": "python",
   "name": "base"
  },
  "language_info": {
   "codemirror_mode": {
    "name": "ipython",
    "version": 3
   },
   "file_extension": ".py",
   "mimetype": "text/x-python",
   "name": "python",
   "nbconvert_exporter": "python",
   "pygments_lexer": "ipython3",
   "version": "3.13.5"
  }
 },
 "nbformat": 4,
 "nbformat_minor": 5
}
