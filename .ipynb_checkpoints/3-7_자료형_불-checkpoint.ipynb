{
 "cells": [
  {
   "cell_type": "markdown",
   "id": "2d4445e2-6386-4353-8498-cc8196a8d65a",
   "metadata": {},
   "source": [
    "## 1. 불 자료형은 어떻게 사용할까?"
   ]
  },
  {
   "cell_type": "code",
   "execution_count": 1,
   "id": "0b2fb07d-f353-4ffb-bcae-71224e53af8a",
   "metadata": {},
   "outputs": [
    {
     "name": "stdout",
     "output_type": "stream",
     "text": [
      "True False\n"
     ]
    }
   ],
   "source": [
    "# 변수에 불 자료형 지정\n",
    "a = True\n",
    "b = False\n",
    "print(a, b)"
   ]
  },
  {
   "cell_type": "code",
   "execution_count": 2,
   "id": "019cbed4-1227-45fa-90fa-de88a16b0b7f",
   "metadata": {},
   "outputs": [
    {
     "data": {
      "text/plain": [
       "bool"
      ]
     },
     "execution_count": 2,
     "metadata": {},
     "output_type": "execute_result"
    }
   ],
   "source": [
    "type(a)"
   ]
  },
  {
   "cell_type": "code",
   "execution_count": 3,
   "id": "f9e1cac9-7edb-43dd-86f0-b2c67a3934e3",
   "metadata": {},
   "outputs": [
    {
     "data": {
      "text/plain": [
       "True"
      ]
     },
     "execution_count": 3,
     "metadata": {},
     "output_type": "execute_result"
    }
   ],
   "source": [
    "# 불 자료형은 조건문의 리터값으로 사용합니다.\n",
    "1 == 1"
   ]
  },
  {
   "cell_type": "code",
   "execution_count": 4,
   "id": "8f6b6863-62da-4e35-b7cb-c6af4e414a2d",
   "metadata": {},
   "outputs": [
    {
     "data": {
      "text/plain": [
       "False"
      ]
     },
     "execution_count": 4,
     "metadata": {},
     "output_type": "execute_result"
    }
   ],
   "source": [
    "1==2"
   ]
  },
  {
   "cell_type": "code",
   "execution_count": 5,
   "id": "0f44c7d3-fb1c-4d3c-ad68-f67a7f79544b",
   "metadata": {},
   "outputs": [
    {
     "data": {
      "text/plain": [
       "False"
      ]
     },
     "execution_count": 5,
     "metadata": {},
     "output_type": "execute_result"
    }
   ],
   "source": [
    "2 > 10"
   ]
  },
  {
   "cell_type": "code",
   "execution_count": 6,
   "id": "b1c274b0-691b-4fd3-a06f-a2bb6d62026d",
   "metadata": {},
   "outputs": [
    {
     "data": {
      "text/plain": [
       "True"
      ]
     },
     "execution_count": 6,
     "metadata": {},
     "output_type": "execute_result"
    }
   ],
   "source": [
    "20 > 10"
   ]
  },
  {
   "cell_type": "markdown",
   "id": "b58e7013-9c25-48b6-bdac-f891fbb52eb1",
   "metadata": {},
   "source": [
    "### 자료형의 참과 거짓이 어떻게 쓰이는지 알아보자."
   ]
  },
  {
   "cell_type": "code",
   "execution_count": 7,
   "id": "644c051b-cb6f-4711-a70c-f96b9d890afb",
   "metadata": {},
   "outputs": [
    {
     "name": "stdout",
     "output_type": "stream",
     "text": [
      "4\n",
      "3\n",
      "2\n",
      "1\n"
     ]
    }
   ],
   "source": [
    "a = [1,2,3,4]\n",
    "while a:\n",
    "    print(a.pop())"
   ]
  },
  {
   "cell_type": "code",
   "execution_count": 8,
   "id": "763f6ac4-f3de-4937-84fc-5daddc162233",
   "metadata": {},
   "outputs": [
    {
     "data": {
      "text/plain": [
       "[]"
      ]
     },
     "execution_count": 8,
     "metadata": {},
     "output_type": "execute_result"
    }
   ],
   "source": [
    "a"
   ]
  },
  {
   "cell_type": "code",
   "execution_count": 9,
   "id": "1816aa53-7ed8-47d1-ac8a-03f9ba675095",
   "metadata": {},
   "outputs": [
    {
     "data": {
      "text/plain": [
       "False"
      ]
     },
     "execution_count": 9,
     "metadata": {},
     "output_type": "execute_result"
    }
   ],
   "source": [
    "bool(a)"
   ]
  },
  {
   "cell_type": "code",
   "execution_count": 10,
   "id": "397c1048-cce0-49cf-9261-0e7891603e7b",
   "metadata": {},
   "outputs": [
    {
     "name": "stdout",
     "output_type": "stream",
     "text": [
      "거짓\n"
     ]
    }
   ],
   "source": [
    "if []:\n",
    "    print('참')\n",
    "else:\n",
    "    print('거짓')"
   ]
  },
  {
   "cell_type": "code",
   "execution_count": 11,
   "id": "71997ec7-7a10-4c55-9684-a04303b83475",
   "metadata": {},
   "outputs": [
    {
     "name": "stdout",
     "output_type": "stream",
     "text": [
      "참\n"
     ]
    }
   ],
   "source": [
    "if [1,2,3]:\n",
    "    print('참')\n",
    "else:\n",
    "    print('거짓')"
   ]
  },
  {
   "cell_type": "markdown",
   "id": "572cc6ee-571b-43c9-bc96-984f96bfd46a",
   "metadata": {},
   "source": [
    "## 3. 불 연산 - bool()"
   ]
  },
  {
   "cell_type": "code",
   "execution_count": 13,
   "id": "bdff2b1e-3879-4cbc-a55b-866f75ea1e7c",
   "metadata": {},
   "outputs": [
    {
     "name": "stdout",
     "output_type": "stream",
     "text": [
      "False\n",
      "True\n",
      "False\n",
      "True\n",
      "False\n",
      "True\n",
      "False\n",
      "True\n",
      "True\n",
      "True\n"
     ]
    }
   ],
   "source": [
    "# bool() True인지 False인지 식별해주는 함수\n",
    "print(bool(''))                # False\n",
    "print(bool('aaa'))             # True\n",
    "print(bool([]))                # False\n",
    "print(bool([1,2]))             # True\n",
    "print(bool({}))                # False\n",
    "print(bool({'a': 1, 'b':2}))   # True\n",
    "print(bool(0))                 # False\n",
    "print(bool(1))                 # True\n",
    "print(bool(-1))                # True\n",
    "print(bool(2.5))               # True"
   ]
  },
  {
   "cell_type": "code",
   "execution_count": null,
   "id": "23b25dda-e49a-4fce-add2-259090dd41e4",
   "metadata": {},
   "outputs": [],
   "source": []
  }
 ],
 "metadata": {
  "kernelspec": {
   "display_name": "Python (base)",
   "language": "python",
   "name": "base"
  },
  "language_info": {
   "codemirror_mode": {
    "name": "ipython",
    "version": 3
   },
   "file_extension": ".py",
   "mimetype": "text/x-python",
   "name": "python",
   "nbconvert_exporter": "python",
   "pygments_lexer": "ipython3",
   "version": "3.13.5"
  }
 },
 "nbformat": 4,
 "nbformat_minor": 5
}
