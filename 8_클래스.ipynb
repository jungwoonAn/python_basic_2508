{
 "cells": [
  {
   "cell_type": "markdown",
   "id": "60575c2c-e676-49e6-bf5c-25f66caca4bb",
   "metadata": {},
   "source": [
    "## 1. 클래스는 왜 필요한가??"
   ]
  },
  {
   "cell_type": "code",
   "execution_count": 1,
   "id": "46023ad2-ad01-4dd6-bca7-0c5a42ad031b",
   "metadata": {},
   "outputs": [
    {
     "name": "stdout",
     "output_type": "stream",
     "text": [
      "3\n",
      "7\n"
     ]
    }
   ],
   "source": [
    "# 함수로 계산기 만들기\n",
    "result = 0\n",
    "\n",
    "def add(num):\n",
    "    global result\n",
    "    result += num\n",
    "    return result\n",
    "\n",
    "print(add(3))  # 0+3 = 3\n",
    "print(add(4))  # 3+4 = 7"
   ]
  },
  {
   "cell_type": "code",
   "execution_count": 2,
   "id": "5e6b1ba7-f9de-415a-970c-7c6c5b1ef970",
   "metadata": {},
   "outputs": [
    {
     "name": "stdout",
     "output_type": "stream",
     "text": [
      "3\n",
      "7\n",
      "5\n",
      "11\n"
     ]
    }
   ],
   "source": [
    "# 계산기 2개로 각각 계산\n",
    "res1 = 0\n",
    "res2 = 0\n",
    "\n",
    "def add1(num):\n",
    "    global res1\n",
    "    res1+=num\n",
    "    return res1\n",
    "\n",
    "def add2(num):\n",
    "    global res2\n",
    "    res2+=num\n",
    "    return res2\n",
    "\n",
    "print(add1(3))\n",
    "print(add1(4))\n",
    "print(add2(5))\n",
    "print(add2(6))"
   ]
  },
  {
   "cell_type": "code",
   "execution_count": 5,
   "id": "1da10830-a1f7-4792-aada-607cab59b0cd",
   "metadata": {},
   "outputs": [
    {
     "name": "stdout",
     "output_type": "stream",
     "text": [
      "3\n",
      "7\n",
      "5\n",
      "11\n"
     ]
    }
   ],
   "source": [
    "# 클래스로 여러개 계산기 만들기\n",
    "class Calculater:\n",
    "    def __init__(self):\n",
    "        self.result = 0  # 계산기 초기값\n",
    "\n",
    "    def add(self, num):\n",
    "        self.result += num\n",
    "        return self.result\n",
    "\n",
    "cal1 = Calculater()  # 인스턴스 - 계산기1\n",
    "cal2 = Calculater()  # 인스턴스 - 계산기2\n",
    "\n",
    "print(cal1.add(3))\n",
    "print(cal1.add(4))\n",
    "print(cal2.add(5))\n",
    "print(cal2.add(6))"
   ]
  },
  {
   "cell_type": "code",
   "execution_count": 6,
   "id": "ac325e79-919e-41e8-9fed-71d6dffef288",
   "metadata": {},
   "outputs": [
    {
     "name": "stdout",
     "output_type": "stream",
     "text": [
      "10\n",
      "13\n",
      "8\n",
      "--------------------\n",
      "-5\n",
      "15\n"
     ]
    }
   ],
   "source": [
    "# 더하기 / 빼기 기능이 있는 계산기의 설계도(class)\n",
    "class Calculater:\n",
    "    def __init__(self):\n",
    "        self.result = 0  # 계산기 초기값\n",
    "\n",
    "    def add(self, num):\n",
    "        self.result += num\n",
    "        return self.result\n",
    "\n",
    "    def sub(self, num):\n",
    "        self.result -= num\n",
    "        return self.result\n",
    "\n",
    "cal1 = Calculater()\n",
    "print(cal1.add(10))  # 0+10 = 10\n",
    "print(cal1.add(3))  # 10+3 = 13\n",
    "print(cal1.sub(5))  # 13-5 = 8\n",
    "print('-'*20)\n",
    "cal2 = Calculater()\n",
    "print(cal2.sub(5))  # 0-5 = -5\n",
    "print(cal2.add(20))  # -5+20 = 15"
   ]
  },
  {
   "cell_type": "markdown",
   "id": "72a62d1f-4606-4df7-940b-9d3daff56bd7",
   "metadata": {},
   "source": [
    "## 3. 사칙연산 클래스 만들기"
   ]
  },
  {
   "cell_type": "code",
   "execution_count": 7,
   "id": "0a43ad26-cf30-4fc0-915a-203cc2687b58",
   "metadata": {},
   "outputs": [],
   "source": [
    "class FourCal:\n",
    "    pass"
   ]
  },
  {
   "cell_type": "code",
   "execution_count": 8,
   "id": "e96625cd-7748-4e90-9e1c-c5ae2fa37a3d",
   "metadata": {},
   "outputs": [
    {
     "data": {
      "text/plain": [
       "__main__.FourCal"
      ]
     },
     "execution_count": 8,
     "metadata": {},
     "output_type": "execute_result"
    }
   ],
   "source": [
    "a = FourCal()\n",
    "type(a)"
   ]
  },
  {
   "cell_type": "code",
   "execution_count": 9,
   "id": "f5002729-4cb9-4723-aa11-9efca81810e8",
   "metadata": {},
   "outputs": [],
   "source": [
    "class FourCal:\n",
    "    def setdata(self, first, second):\n",
    "        self.first = first\n",
    "        self.second = second"
   ]
  },
  {
   "cell_type": "code",
   "execution_count": 14,
   "id": "da7c1d50-0f36-4343-9586-af5f6c38fb5e",
   "metadata": {},
   "outputs": [
    {
     "name": "stdout",
     "output_type": "stream",
     "text": [
      "3 4\n"
     ]
    }
   ],
   "source": [
    "a = FourCal()  # 인스턴스 생성\n",
    "a.setdata(3,4)\n",
    "print(a.first, a.second)"
   ]
  },
  {
   "cell_type": "code",
   "execution_count": 17,
   "id": "70b71299-def4-4134-a951-f1ab8d6067ca",
   "metadata": {},
   "outputs": [
    {
     "name": "stdout",
     "output_type": "stream",
     "text": [
      "6\n",
      "2\n",
      "8\n",
      "2.0\n",
      "********************\n",
      "11\n",
      "-5\n",
      "24\n",
      "0.375\n"
     ]
    }
   ],
   "source": [
    "class FourCal:\n",
    "    def setdata(self, first, second):\n",
    "        self.first = first\n",
    "        self.second = second\n",
    "\n",
    "    def add(self):\n",
    "        result = self.first + self.second\n",
    "        return result\n",
    "\n",
    "    def sub(self):\n",
    "        result = self.first - self.second\n",
    "        return result\n",
    "\n",
    "    def mul(self):\n",
    "        result = self.first * self.second\n",
    "        return result\n",
    "\n",
    "    def div(self):\n",
    "        result = self.first / self.second\n",
    "        return result\n",
    "\n",
    "cal1 = FourCal()     # 계산기1\n",
    "cal2 = FourCal()     # 계산기2\n",
    "\n",
    "# 계산기에 2개의 숫자 입력\n",
    "cal1.setdata(4,2)\n",
    "cal2.setdata(3,8)\n",
    "\n",
    "print(cal1.add())\n",
    "print(cal1.sub())\n",
    "print(cal1.mul())\n",
    "print(cal1.div())\n",
    "print('*'*20)\n",
    "print(cal2.add())\n",
    "print(cal2.sub())\n",
    "print(cal2.mul())\n",
    "print(cal2.div())"
   ]
  },
  {
   "cell_type": "markdown",
   "id": "743cab91-89e2-46a6-a183-12f9d8155696",
   "metadata": {},
   "source": [
    "## 4. 생성자"
   ]
  },
  {
   "cell_type": "code",
   "execution_count": 18,
   "id": "e2db3721-5b80-469c-83f2-10698ae492a5",
   "metadata": {},
   "outputs": [],
   "source": [
    "class FourCal:\n",
    "    def __init__(self, first, second):\n",
    "        self.first = first\n",
    "        self.second = second\n",
    "\n",
    "    def add(self):\n",
    "        result = self.first + self.second\n",
    "        return result\n",
    "\n",
    "    def sub(self):\n",
    "        result = self.first - self.second\n",
    "        return result\n",
    "\n",
    "    def mul(self):\n",
    "        result = self.first * self.second\n",
    "        return result\n",
    "\n",
    "    def div(self):\n",
    "        result = self.first / self.second\n",
    "        return result"
   ]
  },
  {
   "cell_type": "code",
   "execution_count": 19,
   "id": "faf6f36a-0682-4cf0-8af5-8e092f7960d3",
   "metadata": {},
   "outputs": [
    {
     "ename": "TypeError",
     "evalue": "FourCal.__init__() missing 2 required positional arguments: 'first' and 'second'",
     "output_type": "error",
     "traceback": [
      "\u001b[1;31m---------------------------------------------------------------------------\u001b[0m",
      "\u001b[1;31mTypeError\u001b[0m                                 Traceback (most recent call last)",
      "Cell \u001b[1;32mIn[19], line 1\u001b[0m\n\u001b[1;32m----> 1\u001b[0m calc1 \u001b[38;5;241m=\u001b[39m FourCal()\n",
      "\u001b[1;31mTypeError\u001b[0m: FourCal.__init__() missing 2 required positional arguments: 'first' and 'second'"
     ]
    }
   ],
   "source": [
    "calc1 = FourCal()"
   ]
  },
  {
   "cell_type": "code",
   "execution_count": 20,
   "id": "6b7d9632-0aa8-4351-a170-1e2bf3b76499",
   "metadata": {},
   "outputs": [],
   "source": [
    "calc1 = FourCal(15,3)"
   ]
  },
  {
   "cell_type": "code",
   "execution_count": 21,
   "id": "25234266-3c85-48ca-a269-7081dc3c28ca",
   "metadata": {},
   "outputs": [
    {
     "data": {
      "text/plain": [
       "15"
      ]
     },
     "execution_count": 21,
     "metadata": {},
     "output_type": "execute_result"
    }
   ],
   "source": [
    "calc1.first"
   ]
  },
  {
   "cell_type": "code",
   "execution_count": 22,
   "id": "28bd062c-ea74-4dd8-a26d-9fc2e7d4106e",
   "metadata": {},
   "outputs": [
    {
     "data": {
      "text/plain": [
       "3"
      ]
     },
     "execution_count": 22,
     "metadata": {},
     "output_type": "execute_result"
    }
   ],
   "source": [
    "calc1.second"
   ]
  },
  {
   "cell_type": "code",
   "execution_count": 24,
   "id": "3809504b-596b-41e3-9f17-b57ae6bdb0aa",
   "metadata": {},
   "outputs": [
    {
     "name": "stdout",
     "output_type": "stream",
     "text": [
      "15 + 3 =  18\n",
      "15 - 3 =  12\n",
      "15 * 3 =  45\n",
      "15 / 3 =  5.0\n"
     ]
    }
   ],
   "source": [
    "print('15 + 3 = ',calc1.add())\n",
    "print('15 - 3 = ',calc1.sub())\n",
    "print('15 * 3 = ',calc1.mul())\n",
    "print('15 / 3 = ',calc1.div())"
   ]
  },
  {
   "cell_type": "markdown",
   "id": "3ef01486-3e47-4fca-be12-80a2e220cab9",
   "metadata": {},
   "source": [
    "## 5. 클래스 상속"
   ]
  },
  {
   "cell_type": "code",
   "execution_count": 25,
   "id": "e6366e9e-34d5-44cd-9031-9d5aa3f519e9",
   "metadata": {},
   "outputs": [],
   "source": [
    "class MoreFourCal(FourCal):\n",
    "    pass"
   ]
  },
  {
   "cell_type": "code",
   "execution_count": 26,
   "id": "77208616-cc15-45b6-a211-32320d6a1ef0",
   "metadata": {},
   "outputs": [],
   "source": [
    "cal1 = MoreFourCal(4,2)"
   ]
  },
  {
   "cell_type": "code",
   "execution_count": 27,
   "id": "9aab21f5-c559-49bd-8861-50cab9e58cf1",
   "metadata": {},
   "outputs": [
    {
     "name": "stdout",
     "output_type": "stream",
     "text": [
      "6\n",
      "2\n",
      "8\n",
      "2.0\n"
     ]
    }
   ],
   "source": [
    "print(cal1.add())\n",
    "print(cal1.sub())\n",
    "print(cal1.mul())\n",
    "print(cal1.div())"
   ]
  },
  {
   "cell_type": "code",
   "execution_count": 28,
   "id": "514f89b7-695c-4b0e-9530-63f85822b5c3",
   "metadata": {},
   "outputs": [
    {
     "name": "stdout",
     "output_type": "stream",
     "text": [
      "6\n",
      "2\n",
      "8\n",
      "2.0\n",
      "16\n"
     ]
    }
   ],
   "source": [
    "# 기본기능은 상속받았고, MoreFourCal만의 기능을 추가\n",
    "class MoreFourCal(FourCal):\n",
    "    def pow(self):\n",
    "        result = self.first ** self.second\n",
    "        return result\n",
    "\n",
    "cal2 = MoreFourCal(4,2)\n",
    "print(cal2.add())\n",
    "print(cal2.sub())\n",
    "print(cal2.mul())\n",
    "print(cal2.div())\n",
    "print(cal2.pow())"
   ]
  },
  {
   "cell_type": "code",
   "execution_count": 29,
   "id": "bf754a2a-9399-4ae1-bcb8-76d2595f7138",
   "metadata": {},
   "outputs": [
    {
     "name": "stdout",
     "output_type": "stream",
     "text": [
      "4\n",
      "4\n",
      "0\n"
     ]
    }
   ],
   "source": [
    "cal3 = MoreFourCal(4,0)\n",
    "print(cal3.add())\n",
    "print(cal3.sub())\n",
    "print(cal3.mul())"
   ]
  },
  {
   "cell_type": "code",
   "execution_count": 31,
   "id": "6e2507ff-ef42-4b48-9da8-538c82f52cae",
   "metadata": {},
   "outputs": [
    {
     "ename": "ZeroDivisionError",
     "evalue": "division by zero",
     "output_type": "error",
     "traceback": [
      "\u001b[1;31m---------------------------------------------------------------------------\u001b[0m",
      "\u001b[1;31mZeroDivisionError\u001b[0m                         Traceback (most recent call last)",
      "Cell \u001b[1;32mIn[31], line 1\u001b[0m\n\u001b[1;32m----> 1\u001b[0m \u001b[38;5;28mprint\u001b[39m(cal3\u001b[38;5;241m.\u001b[39mdiv())\n",
      "Cell \u001b[1;32mIn[18], line 19\u001b[0m, in \u001b[0;36mFourCal.div\u001b[1;34m(self)\u001b[0m\n\u001b[0;32m     18\u001b[0m \u001b[38;5;28;01mdef\u001b[39;00m\u001b[38;5;250m \u001b[39m\u001b[38;5;21mdiv\u001b[39m(\u001b[38;5;28mself\u001b[39m):\n\u001b[1;32m---> 19\u001b[0m     result \u001b[38;5;241m=\u001b[39m \u001b[38;5;28mself\u001b[39m\u001b[38;5;241m.\u001b[39mfirst \u001b[38;5;241m/\u001b[39m \u001b[38;5;28mself\u001b[39m\u001b[38;5;241m.\u001b[39msecond\n\u001b[0;32m     20\u001b[0m     \u001b[38;5;28;01mreturn\u001b[39;00m result\n",
      "\u001b[1;31mZeroDivisionError\u001b[0m: division by zero"
     ]
    }
   ],
   "source": [
    "print(cal3.div())"
   ]
  },
  {
   "cell_type": "markdown",
   "id": "53d3b7fb-a077-44f0-bef6-99aa26001257",
   "metadata": {},
   "source": [
    "## 6. 메서드 오버라이딩"
   ]
  },
  {
   "cell_type": "code",
   "execution_count": 32,
   "id": "1505520d-25a2-4169-9f94-4ecbdc91c87d",
   "metadata": {},
   "outputs": [],
   "source": [
    "class SafeFourCal(FourCal):\n",
    "    # 상속받은 메서드 재정의(overriding)\n",
    "    def div(self):\n",
    "        if self.second == 0:\n",
    "            return 0\n",
    "        else:\n",
    "            result = self.first / self.second\n",
    "            return result"
   ]
  },
  {
   "cell_type": "code",
   "execution_count": 35,
   "id": "2c15e6c6-0429-4602-8326-dba1495f30a5",
   "metadata": {},
   "outputs": [],
   "source": [
    "calc = SafeFourCal(4,0)"
   ]
  },
  {
   "cell_type": "code",
   "execution_count": 36,
   "id": "43fdfe07-89a3-450a-a81b-939ba323bf31",
   "metadata": {},
   "outputs": [
    {
     "name": "stdout",
     "output_type": "stream",
     "text": [
      "4\n",
      "4\n",
      "0\n",
      "0\n"
     ]
    }
   ],
   "source": [
    "print(calc.add())\n",
    "print(calc.sub())\n",
    "print(calc.mul())\n",
    "print(calc.div())"
   ]
  },
  {
   "cell_type": "markdown",
   "id": "3bb8cdfc-ac3b-4e07-8ce8-4c62f558323f",
   "metadata": {},
   "source": [
    "## 7. 클래스 변수"
   ]
  },
  {
   "cell_type": "code",
   "execution_count": 37,
   "id": "43909924-288c-4243-a304-c48bcb802fb6",
   "metadata": {},
   "outputs": [],
   "source": [
    "class Family:\n",
    "    lastname = '김'"
   ]
  },
  {
   "cell_type": "code",
   "execution_count": 38,
   "id": "e6486ea6-f31d-453b-82bc-db7b72eb86ba",
   "metadata": {},
   "outputs": [
    {
     "data": {
      "text/plain": [
       "'김'"
      ]
     },
     "execution_count": 38,
     "metadata": {},
     "output_type": "execute_result"
    }
   ],
   "source": [
    "Family.lastname"
   ]
  },
  {
   "cell_type": "code",
   "execution_count": 39,
   "id": "5e815168-ff41-4730-b877-3b1c1450f650",
   "metadata": {},
   "outputs": [
    {
     "name": "stdout",
     "output_type": "stream",
     "text": [
      "김\n",
      "김\n"
     ]
    }
   ],
   "source": [
    "a = Family()\n",
    "b = Family()\n",
    "print(a.lastname)\n",
    "print(b.lastname)"
   ]
  },
  {
   "cell_type": "code",
   "execution_count": 42,
   "id": "070e8ab4-f542-440d-afa6-5903d61088d2",
   "metadata": {},
   "outputs": [
    {
     "name": "stdout",
     "output_type": "stream",
     "text": [
      "박\n",
      "박\n"
     ]
    }
   ],
   "source": [
    "# 클래스 변수 변경\n",
    "Family.lastname = \"박\"\n",
    "# Family.lastname => 클래스 변수, 클래스 변수를 변경하면 인스턴스 변수도 변경\n",
    "print(a.lastname)\n",
    "print(b.lastname)"
   ]
  },
  {
   "cell_type": "code",
   "execution_count": 44,
   "id": "bee59c13-9c22-4ea1-8658-ec60e734dd3b",
   "metadata": {},
   "outputs": [
    {
     "name": "stdout",
     "output_type": "stream",
     "text": [
      "최\n",
      "박\n"
     ]
    }
   ],
   "source": [
    "# 인스턴스 변수만 변경\n",
    "a.lastname = \"최\"\n",
    "print(a.lastname)  # 인스턴스변수를 변경하면 해당 인스턴스 변수만 변경됨\n",
    "print(b.lastname)"
   ]
  },
  {
   "cell_type": "code",
   "execution_count": null,
   "id": "d812e6ca-b3ec-4477-9920-25dc2713d7ef",
   "metadata": {},
   "outputs": [],
   "source": []
  }
 ],
 "metadata": {
  "kernelspec": {
   "display_name": "Python (base)",
   "language": "python",
   "name": "base"
  },
  "language_info": {
   "codemirror_mode": {
    "name": "ipython",
    "version": 3
   },
   "file_extension": ".py",
   "mimetype": "text/x-python",
   "name": "python",
   "nbconvert_exporter": "python",
   "pygments_lexer": "ipython3",
   "version": "3.13.5"
  }
 },
 "nbformat": 4,
 "nbformat_minor": 5
}
